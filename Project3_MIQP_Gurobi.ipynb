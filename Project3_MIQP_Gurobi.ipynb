{
  "nbformat": 4,
  "nbformat_minor": 0,
  "metadata": {
    "colab": {
      "name": "Project3_MIQP_Gurobi.ipynb",
      "provenance": [],
      "collapsed_sections": []
    },
    "kernelspec": {
      "name": "python3",
      "display_name": "Python 3"
    },
    "language_info": {
      "name": "python"
    },
    "accelerator": "GPU"
  },
  "cells": [
    {
      "cell_type": "code",
      "metadata": {
        "colab": {
          "base_uri": "https://localhost:8080/"
        },
        "id": "N5rHeLNCPLdq",
        "outputId": "95c9f0c9-72f8-4de4-b056-1ec87bf1a203"
      },
      "source": [
        "!pip install gurobipy"
      ],
      "execution_count": 1,
      "outputs": [
        {
          "output_type": "stream",
          "name": "stdout",
          "text": [
            "Collecting gurobipy\n",
            "  Downloading gurobipy-9.5.0-cp37-cp37m-manylinux2014_x86_64.whl (11.5 MB)\n",
            "\u001b[K     |████████████████████████████████| 11.5 MB 3.1 MB/s \n",
            "\u001b[?25hInstalling collected packages: gurobipy\n",
            "Successfully installed gurobipy-9.5.0\n"
          ]
        }
      ]
    },
    {
      "cell_type": "code",
      "metadata": {
        "id": "sa5gTAsE21Wd"
      },
      "source": [
        "import pandas as pd\n",
        "import numpy as np\n",
        "import matplotlib.pyplot as plt\n",
        "from itertools import combinations\n",
        "\n",
        "import seaborn as sns \n",
        "import gurobipy as gp\n",
        "\n",
        "\n",
        "from sklearn.model_selection import KFold\n",
        "\n",
        "from sklearn.linear_model import LinearRegression,Lasso\n",
        "from sklearn.metrics import mean_squared_error as mse\n"
      ],
      "execution_count": 41,
      "outputs": []
    },
    {
      "cell_type": "code",
      "metadata": {
        "id": "7oOUvbdV28MH"
      },
      "source": [
        "df=pd.read_csv('training_data.csv')\n"
      ],
      "execution_count": 3,
      "outputs": []
    },
    {
      "cell_type": "markdown",
      "metadata": {
        "id": "443sNduo_taf"
      },
      "source": [
        "# Finding appropriate M by computing regression coefficients of our dataset\n"
      ]
    },
    {
      "cell_type": "code",
      "metadata": {
        "colab": {
          "base_uri": "https://localhost:8080/"
        },
        "id": "0gfG5keb_sUx",
        "outputId": "5cee29c0-df39-4a5b-a4d8-8b396ebb07bd"
      },
      "source": [
        "lt_coefs=[]\n",
        "\n",
        "lr=LinearRegression()\n",
        "lr.fit(x,y)\n",
        "lt_coefs.extend(lr.coef_)\n",
        "\n",
        "for i in range(x.shape[1]):\n",
        "  lr=LinearRegression()\n",
        "  lr.fit(x[:,i].reshape(-1,1),y)\n",
        "  lt_coefs.extend(lr.coef_)\n",
        "\n",
        "\n",
        "\n",
        "for pre_2 in combinations(range(51),2):\n",
        "  lr=LinearRegression()\n",
        "  lr.fit(x[:,pre_2],y)\n",
        "  lt_coefs.extend(lr.coef_)\n",
        "\n",
        "for pre_3 in combinations(range(51),3):\n",
        "  lr=LinearRegression()\n",
        "  lr.fit(x[:,pre_3],y)\n",
        "  lt_coefs.extend(lr.coef_)\n",
        "\n",
        "print(np.max(np.absolute(np.array(lt_coefs))))\n",
        "# Our starting M can be--> 100 >>2.8*10\n",
        "M=np.round(np.max(np.absolute(np.array(lt_coefs)))*10,2)\n",
        "M=20\n",
        "\n"
      ],
      "execution_count": 45,
      "outputs": [
        {
          "output_type": "stream",
          "name": "stdout",
          "text": [
            "2.855970818913819\n"
          ]
        }
      ]
    },
    {
      "cell_type": "code",
      "metadata": {
        "colab": {
          "base_uri": "https://localhost:8080/",
          "height": 515
        },
        "id": "D25HTx8RAI5l",
        "outputId": "34783ff0-803b-432c-835c-7e688b48595c"
      },
      "source": [
        "plt.figure(figsize=(20,8))\n",
        "q_1=pd.Series(lt_coefs).quantile(.01)\n",
        "q_99=pd.Series(lt_coefs).quantile(.99)\n",
        "\n",
        "pd.Series(lt_coefs).sort_values(ascending=False).plot(kind='hist',bins=50)\n",
        "plt.axvline(x=q_1,color='red')\n",
        "plt.axvline(x=q_99,color='red')\n",
        "\n",
        "plt.xlabel('coeffs_values')"
      ],
      "execution_count": 56,
      "outputs": [
        {
          "output_type": "execute_result",
          "data": {
            "text/plain": [
              "Text(0.5, 0, 'coeffs_values')"
            ]
          },
          "metadata": {},
          "execution_count": 56
        },
        {
          "output_type": "display_data",
          "data": {
            "image/png": "[encoded data removed]",
            "text/plain": [
              "<Figure size 1440x576 with 1 Axes>"
            ]
          },
          "metadata": {
            "needs_background": "light"
          }
        }
      ]
    },
    {
      "cell_type": "code",
      "metadata": {
        "id": "jVoSHtqHGdj2"
      },
      "source": [
        "def generate_sigma_obj(df,only_return_xy=False):\n",
        "  '''\n",
        "  The function will extract feature and target based columns from the provided \n",
        "  dataframe.\n",
        "  Following it will formulate both sigma and linear objective based matrices.\n",
        "  A constant column vector is appended to the end of the predictor covariance \n",
        "  matrix in order to incorporate the contribution of intercept.\n",
        "\n",
        "  Slicing property of numpy was utilized to include remaining decision variables\n",
        "  in the objective matrix\n",
        "  \n",
        "  Input=df\n",
        "  Output=Sigma and linear objective that can directly passed to gurobi model\n",
        "\n",
        "  Only processed x and y matrices can be returned by using alteranate \n",
        "  only_return_xy boolean.\n",
        "  '''\n",
        "  x=df.drop(['y'],axis=1).values\n",
        "  y=df['y'].values\n",
        "\n",
        "  predictors=x.shape[1]\n",
        "\n",
        "  x=np.concatenate([x,np.ones(shape=(x.shape[0],1))],axis=1)\n",
        "\n",
        "  if only_return_xy:\n",
        "    return (x,y)\n",
        "  \n",
        "  sigma=np.zeros(shape=(2*predictors+1,2*predictors+1))\n",
        "  sigma[:predictors+1,:predictors+1]=x.T@x\n",
        "\n",
        "\n",
        "  obj=np.zeros(\n",
        "      shape=(2*predictors+1)\n",
        "  )\n",
        "  obj[:predictors+1]=-2*(y.T@x)\n",
        "\n",
        "\n",
        "  return (sigma,obj)\n"
      ],
      "execution_count": 4,
      "outputs": []
    },
    {
      "cell_type": "code",
      "metadata": {
        "id": "mAzRQrUCHuyQ"
      },
      "source": [
        "def prepare_constraint_matrix(K=10,M=20):\n",
        "  '''\n",
        "  This function helps to formulate constraint based matrix\n",
        "  There are two types of constraint in this problem, one associated with Big M\n",
        "  bounds that aids to link the value of decision variable and coefficient.\n",
        "\n",
        "  Second one deals with restricting the number of predictors that can be used.\n",
        "\n",
        "  Input :-\n",
        "  K= Number of predictors allowed\n",
        "  M= bound value for Big M constraints \n",
        "\n",
        "  Output :-\n",
        "  A=LHS side of the constraint/ constraint matrix, dtype=array\n",
        "  b=RHS side of the constraint\n",
        "  sense= equality/inequality sign\n",
        "  '''\n",
        "  global predictors\n",
        "\n",
        "  A=np.zeros((2*predictors+1,\n",
        "              2*predictors+1))\n",
        "  b=np.zeros((2*predictors+1))\n",
        "\n",
        "  sense=np.array(['']*(2*predictors+1))\n",
        "\n",
        "  rw=0\n",
        "  for i in range(predictors):\n",
        "    A[rw,[i,i+predictors+1]]=[1,-M]#upper bound for bj <M*zj\n",
        "    sense[rw]='<'\n",
        "\n",
        "    A[rw+predictors,[i,i+predictors+1]]=[1,M]#lower bound bj >M*zj\n",
        "    sense[rw+predictors]='>'\n",
        "    rw+=1\n",
        "\n",
        "  A[-1,predictors+1:]=[1]*predictors\n",
        "  b[-1]=K\n",
        "  sense[-1]='<'\n",
        "\n",
        "  return (A,b,sense)"
      ],
      "execution_count": 6,
      "outputs": []
    },
    {
      "cell_type": "code",
      "metadata": {
        "id": "spy4FymnIkLL"
      },
      "source": [
        "def formulate_bounds_vtypes(M):\n",
        "  '''\n",
        "  Determine the upper and lower bounds of the variables\n",
        "  Additionally generates and returns the variable type of decision variables\n",
        "  '''\n",
        "  global predictors\n",
        "  ub=[M]*predictors +[M*1000] +[1]*predictors\n",
        "  lb=[-M]*predictors +[-M*1000] +[0]*predictors\n",
        "\n",
        "  vtype=['C']*(predictors+1) +['B']*(predictors)\n",
        "\n",
        "  return (ub,lb,vtype)"
      ],
      "execution_count": 7,
      "outputs": []
    },
    {
      "cell_type": "code",
      "metadata": {
        "id": "YXhyobI5I_uJ"
      },
      "source": [
        "def optimize_loss(sigma,obj,A,b,sense,vtype,ub,lb):\n",
        "  '''\n",
        "  This is a caller function performing optimization\n",
        "  It initiates the instances of gurobipy model following assembles all the \n",
        "  associated objectives ans constraints and methodically execute them to \n",
        "  find optimal solution for provided objective function.\n",
        "\n",
        "  Input= objective (sigma-Q,obj-L), constraint matrices(A,b,sense),vtype\n",
        "  Output= Trained instance of gurobi model\n",
        "  '''\n",
        "\n",
        "  biMod = gp.Model()\n",
        "  biMod_x = biMod.addMVar(len(obj),vtype=vtype,ub=ub,lb=lb) # vtype can be: 'C' or 'I' or 'B'\n",
        "  biMod_con = biMod.addMConstrs(A, biMod_x, sense, b)\n",
        "  biMod.setMObjective(sigma,obj,0,sense=gp.GRB.MINIMIZE)\n",
        "\n",
        "  biMod.Params.OutputFlag = 0 \n",
        "  biMod.optimize()\n",
        "\n",
        "  return biMod"
      ],
      "execution_count": 8,
      "outputs": []
    },
    {
      "cell_type": "code",
      "metadata": {
        "id": "fJ6LO37DJgWV"
      },
      "source": [
        "def compute_loss(biMod,df_test,return_weight=False):\n",
        "  '''\n",
        "  Input= bimod- Trained instance of gurobi that comprises of weights\n",
        "  df_test= Dataframe consisting of predictirs and target variables\n",
        "\n",
        "  Output = MSE based error \n",
        "  '''\n",
        "  global predictors\n",
        "  x_test=df_test.drop(['y'],axis=1).values\n",
        "  y_test=df_test['y'].values\n",
        "\n",
        "  x_test=np.concatenate([x_test,np.ones(shape=(x_test.shape[0],1))],axis=1)\n",
        "\n",
        "  y_pred=x_test[:,:predictors+1]@biMod.x[:predictors+1]\n",
        "  err=mse(y_test,y_pred)\n",
        "\n",
        "  if return_weight:\n",
        "    return (err,biMod.x[:predictors+1])\n",
        "  return err\n",
        "\n",
        "\n",
        "\n"
      ],
      "execution_count": 9,
      "outputs": []
    },
    {
      "cell_type": "code",
      "metadata": {
        "id": "5ol2CEX0Suer"
      },
      "source": [
        "big_m=20\n",
        "number_predictors_allowed=10\n",
        "predictors=df.shape[1]-1\n",
        "\n",
        "\n",
        "def perform_10fold_cv(number_predictors_allowed,big_m=20):\n",
        "  '''\n",
        "  This will create 10 splits of dataframe that we wish to run our CV experiment on\n",
        "  Shuffle based boolean will rearrange the indices of the dataset before creating splits\n",
        "\n",
        "  Input = number of predictors allowed (int), that will be used in our constraint matrix\n",
        "  Big_m= bound values\n",
        "\n",
        "  Output= List of 10 MSE errors  \n",
        "  '''\n",
        "\n",
        "  k_fold=KFold(n_splits=10,shuffle=True)\n",
        "\n",
        "\n",
        "\n",
        "  lt_mse=[]\n",
        "  for train_idx,test_idx in k_fold.split(df):\n",
        "    df_train=df.loc[train_idx]\n",
        "    df_test=df.loc[test_idx]\n",
        "\n",
        "    sigma,obj=generate_sigma_obj(df_train)\n",
        "    A,b,sense=prepare_constraint_matrix(K=number_predictors_allowed,M=big_m)\n",
        "    ub,lb,vtype=formulate_bounds_vtypes(M=big_m)\n",
        "    biMod=optimize_loss(sigma,obj,A,b,sense,vtype,ub,lb)\n",
        "    err=compute_loss(biMod,df_test,return_weight=False)\n",
        "\n",
        "    lt_mse.append(err)\n",
        "  return lt_mse\n",
        "\n",
        "\n"
      ],
      "execution_count": 10,
      "outputs": []
    },
    {
      "cell_type": "code",
      "metadata": {
        "colab": {
          "base_uri": "https://localhost:8080/"
        },
        "id": "VZ1j_-PfOQy4",
        "outputId": "4ff44f2d-7dce-4e6a-9351-0a3446873a69"
      },
      "source": [
        "dict_k={}\n",
        "\n",
        "for k in np.arange(5,55,5):\n",
        "  print(f'processing for {k} predictors','\\n\\n')\n",
        "\n",
        "  temp_lt=perform_10fold_cv(number_predictors_allowed=k)\n",
        "  dict_k[str(k)]=temp_lt"
      ],
      "execution_count": null,
      "outputs": [
        {
          "output_type": "stream",
          "name": "stdout",
          "text": [
            "processing for 5 predictors \n",
            "\n",
            "\n",
            "Restricted license - for non-production use only - expires 2023-10-25\n"
          ]
        },
        {
          "output_type": "stream",
          "name": "stderr",
          "text": [
            "/usr/local/lib/python3.7/dist-packages/ipykernel_launcher.py:18: DeprecationWarning: Deprecated, use Model.addMConstr() instead\n",
            "/usr/local/lib/python3.7/dist-packages/ipykernel_launcher.py:18: DeprecationWarning: Deprecated, use Model.addMConstr() instead\n",
            "/usr/local/lib/python3.7/dist-packages/ipykernel_launcher.py:18: DeprecationWarning: Deprecated, use Model.addMConstr() instead\n",
            "/usr/local/lib/python3.7/dist-packages/ipykernel_launcher.py:18: DeprecationWarning: Deprecated, use Model.addMConstr() instead\n",
            "/usr/local/lib/python3.7/dist-packages/ipykernel_launcher.py:18: DeprecationWarning: Deprecated, use Model.addMConstr() instead\n",
            "/usr/local/lib/python3.7/dist-packages/ipykernel_launcher.py:18: DeprecationWarning: Deprecated, use Model.addMConstr() instead\n",
            "/usr/local/lib/python3.7/dist-packages/ipykernel_launcher.py:18: DeprecationWarning: Deprecated, use Model.addMConstr() instead\n",
            "/usr/local/lib/python3.7/dist-packages/ipykernel_launcher.py:18: DeprecationWarning: Deprecated, use Model.addMConstr() instead\n",
            "/usr/local/lib/python3.7/dist-packages/ipykernel_launcher.py:18: DeprecationWarning: Deprecated, use Model.addMConstr() instead\n",
            "/usr/local/lib/python3.7/dist-packages/ipykernel_launcher.py:18: DeprecationWarning: Deprecated, use Model.addMConstr() instead\n"
          ]
        },
        {
          "output_type": "stream",
          "name": "stdout",
          "text": [
            "processing for 10 predictors \n",
            "\n",
            "\n"
          ]
        },
        {
          "output_type": "stream",
          "name": "stderr",
          "text": [
            "/usr/local/lib/python3.7/dist-packages/ipykernel_launcher.py:18: DeprecationWarning: Deprecated, use Model.addMConstr() instead\n",
            "/usr/local/lib/python3.7/dist-packages/ipykernel_launcher.py:18: DeprecationWarning: Deprecated, use Model.addMConstr() instead\n"
          ]
        }
      ]
    },
    {
      "cell_type": "code",
      "metadata": {
        "id": "Jp9YhPGFVTCm"
      },
      "source": [
        "# pd.DataFrame(dict_k)#.to_csv('err.csv')\n",
        "# df_err=pd.DataFrame(dict_k)\n",
        "df_err=pd.read_csv('err.csv',index_col=0)\n",
        "\n",
        "num_predictors=int(df_err.columns[df_err.mean().argmin()])\n",
        "\n",
        "\n"
      ],
      "execution_count": 61,
      "outputs": []
    },
    {
      "cell_type": "code",
      "metadata": {
        "colab": {
          "base_uri": "https://localhost:8080/",
          "height": 514
        },
        "id": "MVaoj5CEDLp9",
        "outputId": "2cab87df-6823-499d-a130-a2a9effa032e"
      },
      "source": [
        "plt.figure(figsize=(20,8))\n",
        "sns.heatmap(df_err,annot=True)\n",
        "plt.xlabel('Number of predictors used')\n",
        "plt.ylabel('CV_set')"
      ],
      "execution_count": 63,
      "outputs": [
        {
          "output_type": "execute_result",
          "data": {
            "text/plain": [
              "Text(159.0, 0.5, 'CV_set')"
            ]
          },
          "metadata": {},
          "execution_count": 63
        },
        {
          "output_type": "display_data",
          "data": {
            "image/png": "[encoded data removed]",
            "text/plain": [
              "<Figure size 1440x576 with 2 Axes>"
            ]
          },
          "metadata": {
            "needs_background": "light"
          }
        }
      ]
    },
    {
      "cell_type": "code",
      "metadata": {
        "colab": {
          "base_uri": "https://localhost:8080/"
        },
        "id": "rzdWXnSSQ-qY",
        "outputId": "9950bf30-0ffe-46ef-8eba-172821dc687c"
      },
      "source": [
        "sigma,obj=generate_sigma_obj(df)\n",
        "A,b,sense=prepare_constraint_matrix(K=num_predictors,M=big_m)\n",
        "ub,lb,vtype=formulate_bounds_vtypes(M=big_m)\n",
        "biMod=optimize_loss(sigma,obj,A,b,sense,vtype,ub,lb)\n",
        "\n",
        "df_wts=pd.DataFrame(biMod.x[:predictors+1],columns=['wts'])"
      ],
      "execution_count": null,
      "outputs": [
        {
          "output_type": "stream",
          "name": "stderr",
          "text": [
            "/usr/local/lib/python3.7/dist-packages/ipykernel_launcher.py:4: DeprecationWarning: Deprecated, use Model.addMConstr() instead\n",
            "  after removing the cwd from sys.path.\n"
          ]
        }
      ]
    },
    {
      "cell_type": "code",
      "metadata": {
        "colab": {
          "base_uri": "https://localhost:8080/",
          "height": 483
        },
        "id": "r62CqL6cRtTw",
        "outputId": "a15d9148-56ba-425c-e099-e1eb236707cb"
      },
      "source": [
        "import matplotlib.pyplot as plt\n",
        "plt.figure(figsize=(20,8))\n",
        "len(df_wts[df_wts.wts!=0])#Number of allowed preditors plus the constant \n",
        "df_wts.loc[:,'indicator']=df_wts.wts.apply(lambda e : e if e!=0 else np.nan)\n",
        "plt.plot(df_wts.indicator,'o')\n",
        "\n",
        "names=['var_'+str(i) for i in range(50)]+['intercept']\n",
        "for i,nm in enumerate(names):\n",
        "  if df_wts.iloc[i].wts!=0:\n",
        "    plt.annotate(nm,(i,df_wts.wts[i]))\n",
        "\n"
      ],
      "execution_count": null,
      "outputs": [
        {
          "output_type": "display_data",
          "data": {
            "image/png": "[encoded data removed]",
            "text/plain": [
              "<Figure size 1440x576 with 1 Axes>"
            ]
          },
          "metadata": {
            "needs_background": "light"
          }
        }
      ]
    },
    {
      "cell_type": "code",
      "metadata": {
        "colab": {
          "base_uri": "https://localhost:8080/"
        },
        "id": "b8kk_7j-VH0c",
        "outputId": "e17bb5bb-0d84-4b2c-e8ed-e13b4d32075d"
      },
      "source": [
        "df_test=pd.read_csv('test_data.csv')\n",
        "x_test=df_test.drop(['y'],axis=1).values\n",
        "y_test=df_test['y'].values\n",
        "\n",
        "x_test=np.concatenate([x_test,np.ones((x_test.shape[0],1))],axis=1)\n"
      ],
      "execution_count": null,
      "outputs": [
        {
          "output_type": "execute_result",
          "data": {
            "text/plain": [
              "(50, 51)"
            ]
          },
          "metadata": {},
          "execution_count": 65
        }
      ]
    },
    {
      "cell_type": "code",
      "metadata": {
        "colab": {
          "base_uri": "https://localhost:8080/",
          "height": 352
        },
        "id": "AwlpHSyKWHpq",
        "outputId": "e8627a07-6bcc-4d0b-f122-84ebd1a6e06f"
      },
      "source": [
        "wts=df_wts.wts.values\n",
        "y_pred=x_test@wts\n",
        "import seaborn as sns\n",
        "s=sns.regplot(y_pred,y_test)#,'o')\n",
        "s.set_xlabel('Predicted_values')\n",
        "s.set_ylabel('True_values')"
      ],
      "execution_count": null,
      "outputs": [
        {
          "output_type": "stream",
          "name": "stderr",
          "text": [
            "/usr/local/lib/python3.7/dist-packages/seaborn/_decorators.py:43: FutureWarning: Pass the following variables as keyword args: x, y. From version 0.12, the only valid positional argument will be `data`, and passing other arguments without an explicit keyword will result in an error or misinterpretation.\n",
            "  FutureWarning\n"
          ]
        },
        {
          "output_type": "execute_result",
          "data": {
            "text/plain": [
              "Text(0, 0.5, 'True_values')"
            ]
          },
          "metadata": {},
          "execution_count": 74
        },
        {
          "output_type": "display_data",
          "data": {
            "image/png": "[encoded data removed]",
            "text/plain": [
              "<Figure size 432x288 with 1 Axes>"
            ]
          },
          "metadata": {
            "needs_background": "light"
          }
        }
      ]
    },
    {
      "cell_type": "code",
      "metadata": {
        "colab": {
          "base_uri": "https://localhost:8080/"
        },
        "id": "4uI3hK27XZqo",
        "outputId": "a2659442-a0be-4186-9842-000dd005f040"
      },
      "source": [
        "mse(y_test,y_pred)"
      ],
      "execution_count": null,
      "outputs": [
        {
          "output_type": "execute_result",
          "data": {
            "text/plain": [
              "2.336543964552526"
            ]
          },
          "metadata": {},
          "execution_count": 75
        }
      ]
    },
    {
      "cell_type": "markdown",
      "metadata": {
        "id": "iPMflG2uXgWk"
      },
      "source": [
        "# LASSO CV\n",
        "\n",
        "Need to run 10 cv fold based lasso to determine the optimal value of lambda which can help us further determine how many predictors were finally used by the LAsso model."
      ]
    },
    {
      "cell_type": "code",
      "metadata": {
        "id": "Osj3RmG6ZUcx"
      },
      "source": [
        "x_train,y_train=generate_sigma_obj(df,only_return_xy=True)"
      ],
      "execution_count": null,
      "outputs": []
    },
    {
      "cell_type": "code",
      "metadata": {
        "colab": {
          "base_uri": "https://localhost:8080/"
        },
        "id": "vl47P0xGYsH1",
        "outputId": "66fe6ec6-ab6c-4406-ea07-755a9a62630d"
      },
      "source": [
        "from sklearn.linear_model import LassoCV \n",
        "l_cv=LassoCV(cv=10)\n",
        "l_cv.fit(x_train,y_train)\n",
        "\n"
      ],
      "execution_count": null,
      "outputs": [
        {
          "output_type": "execute_result",
          "data": {
            "text/plain": [
              "LassoCV(cv=10)"
            ]
          },
          "metadata": {},
          "execution_count": 80
        }
      ]
    },
    {
      "cell_type": "code",
      "metadata": {
        "colab": {
          "base_uri": "https://localhost:8080/",
          "height": 353
        },
        "id": "VkMf9FVEYrcG",
        "outputId": "b53eca9a-161c-4702-ca81-b4cdd02bdf66"
      },
      "source": [
        "l_cv.alpha_\n",
        "wts_lasso=l_cv.coef_\n",
        "\n",
        "y_pred_lasso=x_test@wts_lasso\n",
        "s=sns.regplot(y_pred_lasso,y_test)#,'o')\n",
        "s.set_xlabel('Predicted_values_lasso')\n",
        "s.set_ylabel('True_values')\n",
        "\n"
      ],
      "execution_count": null,
      "outputs": [
        {
          "output_type": "stream",
          "name": "stderr",
          "text": [
            "/usr/local/lib/python3.7/dist-packages/seaborn/_decorators.py:43: FutureWarning: Pass the following variables as keyword args: x, y. From version 0.12, the only valid positional argument will be `data`, and passing other arguments without an explicit keyword will result in an error or misinterpretation.\n",
            "  FutureWarning\n"
          ]
        },
        {
          "output_type": "execute_result",
          "data": {
            "text/plain": [
              "Text(0, 0.5, 'True_values')"
            ]
          },
          "metadata": {},
          "execution_count": 86
        },
        {
          "output_type": "display_data",
          "data": {
            "image/png": "[encoded data removed]",
            "text/plain": [
              "<Figure size 432x288 with 1 Axes>"
            ]
          },
          "metadata": {
            "needs_background": "light"
          }
        }
      ]
    },
    {
      "cell_type": "code",
      "metadata": {
        "colab": {
          "base_uri": "https://localhost:8080/"
        },
        "id": "XFu6LWbPXfBg",
        "outputId": "8199c935-ff61-4d5a-814c-34bca3974ec9"
      },
      "source": [
        "mse(y_pred_lasso,y_test)"
      ],
      "execution_count": null,
      "outputs": [
        {
          "output_type": "execute_result",
          "data": {
            "text/plain": [
              "3.5947145732958834"
            ]
          },
          "metadata": {},
          "execution_count": 87
        }
      ]
    },
    {
      "cell_type": "code",
      "metadata": {
        "colab": {
          "base_uri": "https://localhost:8080/",
          "height": 483
        },
        "id": "nXumVmquXfe8",
        "outputId": "da40ebdf-94fa-4f62-9f19-a5dbf3810ffa"
      },
      "source": [
        "# for i,wt in enumerate()\n",
        "wts_lasso=np.array(wts_lasso)\n",
        "beta_lasso=np.where(wts_lasso==0,np.nan,wts_lasso)\n",
        "plt.figure(figsize=(20,8))\n",
        "plt.plot(beta_lasso,'*')\n",
        "\n",
        "for i,wt in enumerate(beta_lasso):\n",
        "  if wt:\n",
        "    nm='var_'+str(i)\n",
        "    if i==len(beta_lasso)-1:\n",
        "      nm='intercept'\n",
        "    plt.annotate(nm,\n",
        "                 (i,beta_lasso[i]))\n"
      ],
      "execution_count": null,
      "outputs": [
        {
          "output_type": "display_data",
          "data": {
            "image/png": "[encoded data removed]",
            "text/plain": [
              "<Figure size 1440x576 with 1 Axes>"
            ]
          },
          "metadata": {
            "needs_background": "light"
          }
        }
      ]
    },
    {
      "cell_type": "markdown",
      "metadata": {
        "id": "aEk2KFef_kzC"
      },
      "source": [
        "# Rough Work\n",
        "## Constraints"
      ]
    },
    {
      "cell_type": "code",
      "metadata": {
        "id": "pPuJCyPjR470"
      },
      "source": [
        "x=df.drop(['y'],axis=1).values\n",
        "y=df['y'].values#.reshape(-1,1)\n",
        "\n",
        "x=np.concatenate([x,np.ones(shape=(x.shape[0],1))],axis=1)\n",
        "\n",
        "#We have an alzebraic formulation for all the predictors and intercept, we need to incorporate z based pivot variables in our loss function\n",
        "#This needs to be done beacus eof the design of scipy optimization instance that requires variable to be of fixed length in our constraint and loss function\n",
        "\n",
        "expanded_loss_term1=np.zeros(shape=(2*predictors+1,2*predictors+1))\n",
        "expanded_loss_term1[:predictors+1,:predictors+1]=x.T@x\n",
        "\n",
        "\n",
        "expanded_loss_term2=np.zeros(\n",
        "    shape=(2*predictors+1)\n",
        ")\n",
        "expanded_loss_term2[:predictors+1]=-2*(y.T@x)\n",
        "\n",
        "#Thus we have formulated two terms for our loss function\n",
        "\n",
        "sigma=expanded_loss_term1\n",
        "obj=expanded_loss_term2\n",
        "\n"
      ],
      "execution_count": 13,
      "outputs": []
    },
    {
      "cell_type": "code",
      "metadata": {
        "colab": {
          "base_uri": "https://localhost:8080/"
        },
        "id": "EcikRa5S9-Hn",
        "outputId": "b10090d6-6996-4417-e08c-5b99e7278c85"
      },
      "source": [
        "from itertools import combinations\n",
        "for pre_3 in combinations(range(51),3):\n",
        "  lr=LinearRegression()\n",
        "  lr.fit(x[:,pre_3],y)\n",
        "  print(lr.coef_)\n",
        "  "
      ],
      "execution_count": 26,
      "outputs": [
        {
          "output_type": "stream",
          "name": "stdout",
          "text": [
            "[-0.45412609 -0.37870189 -0.34359914]\n"
          ]
        }
      ]
    },
    {
      "cell_type": "code",
      "metadata": {
        "colab": {
          "base_uri": "https://localhost:8080/"
        },
        "id": "3KKCqqHrCfPL",
        "outputId": "a54996e5-3ce5-4e1b-f077-373604b7611a"
      },
      "source": [
        "#Finding appropriate M by computing regression coefficients of our dataset\n",
        "\n",
        "lt_coefs=[]\n",
        "\n",
        "lr=LinearRegression()\n",
        "lr.fit(x,y)\n",
        "lt_coefs.extend(lr.coef_)\n",
        "\n",
        "for i in range(x.shape[1]):\n",
        "  lr=LinearRegression()\n",
        "  lr.fit(x[:,i].reshape(-1,1),y)\n",
        "  lt_coefs.extend(lr.coef_)\n",
        "\n",
        "from itertools import combinations\n",
        "for pre_3 in combinations(range(51),3):\n",
        "  lr=LinearRegression()\n",
        "  lr.fit(x[:,pre_3],y)\n",
        "  lt_coefs.extend(lr.coef_)\n",
        "\n",
        "print(np.max(np.absolute(np.array(lt_coefs))))\n",
        "# Our starting M can be--> 100 >>2.8*10\n",
        "M=np.round(np.max(np.absolute(np.array(lt_coefs)))*10,-2)\n",
        "# M=20\n",
        "\n",
        "print(np.min(np.absolute(np.array(lt_coefs))))\n"
      ],
      "execution_count": 29,
      "outputs": [
        {
          "output_type": "stream",
          "name": "stdout",
          "text": [
            "2.855970818913819\n",
            "0.0\n"
          ]
        }
      ]
    },
    {
      "cell_type": "code",
      "metadata": {
        "colab": {
          "base_uri": "https://localhost:8080/"
        },
        "id": "qDEnRDPt_T2C",
        "outputId": "9bf22898-09d6-4e90-84fc-3383423d6cfa"
      },
      "source": [
        "M=np.round(np.max(np.absolute(np.array(lt_coefs)))*10,2)\n",
        "M"
      ],
      "execution_count": 31,
      "outputs": [
        {
          "output_type": "execute_result",
          "data": {
            "text/plain": [
              "28.56"
            ]
          },
          "metadata": {},
          "execution_count": 31
        }
      ]
    },
    {
      "cell_type": "code",
      "metadata": {
        "colab": {
          "base_uri": "https://localhost:8080/",
          "height": 234
        },
        "id": "lRYanOu0_hFm",
        "outputId": "fd285c2d-b5b7-4640-9bcf-3801ca72bacf"
      },
      "source": [
        "#Big M constraints for every predictor\n",
        "#2* preditors number of constraints\n",
        "#Orientation of the decision variables - preditors + intercept + gates(decision variables)\n",
        "\n",
        "#1 constraint for z number of variables\n",
        "\n",
        "K=25\n",
        "\n",
        "A=np.zeros((2*predictors+1,\n",
        "            2*predictors+1))\n",
        "b=np.zeros((2*predictors+1))\n",
        "\n",
        "sense=np.array(['']*(2*predictors+1))\n",
        "\n",
        "rw=0\n",
        "for i in range(predictors):\n",
        "  A[rw,[i,i+predictors+1]]=[1,-M]#upper bound for bj <M*zj\n",
        "  sense[rw]='<'\n",
        "\n",
        "  A[rw+predictors,[i,i+predictors+1]]=[1,M]#lower bound bj >M*zj\n",
        "  sense[rw+predictors]='>'\n",
        "\n",
        "  rw+=1\n",
        "\n",
        "A[-1,predictors+1:]=[1]*50\n",
        "b[-1]=K\n",
        "sense[-1]='<'\n",
        "\n",
        "ub=[M]*50 +[M*1000] +[1]*50\n",
        "lb=[-M]*50 +[-M*1000] +[0]*50\n",
        "\n",
        "vtype=['C']*(predictors+1) +['B']*50"
      ],
      "execution_count": null,
      "outputs": [
        {
          "output_type": "error",
          "ename": "NameError",
          "evalue": "ignored",
          "traceback": [
            "\u001b[0;31m---------------------------------------------------------------------------\u001b[0m",
            "\u001b[0;31mNameError\u001b[0m                                 Traceback (most recent call last)",
            "\u001b[0;32m<ipython-input-14-53106e891b62>\u001b[0m in \u001b[0;36m<module>\u001b[0;34m()\u001b[0m\n\u001b[1;32m     15\u001b[0m \u001b[0mrw\u001b[0m\u001b[0;34m=\u001b[0m\u001b[0;36m0\u001b[0m\u001b[0;34m\u001b[0m\u001b[0;34m\u001b[0m\u001b[0m\n\u001b[1;32m     16\u001b[0m \u001b[0;32mfor\u001b[0m \u001b[0mi\u001b[0m \u001b[0;32min\u001b[0m \u001b[0mrange\u001b[0m\u001b[0;34m(\u001b[0m\u001b[0mpredictors\u001b[0m\u001b[0;34m)\u001b[0m\u001b[0;34m:\u001b[0m\u001b[0;34m\u001b[0m\u001b[0;34m\u001b[0m\u001b[0m\n\u001b[0;32m---> 17\u001b[0;31m   \u001b[0mA\u001b[0m\u001b[0;34m[\u001b[0m\u001b[0mrw\u001b[0m\u001b[0;34m,\u001b[0m\u001b[0;34m[\u001b[0m\u001b[0mi\u001b[0m\u001b[0;34m,\u001b[0m\u001b[0mi\u001b[0m\u001b[0;34m+\u001b[0m\u001b[0mpredictors\u001b[0m\u001b[0;34m+\u001b[0m\u001b[0;36m1\u001b[0m\u001b[0;34m]\u001b[0m\u001b[0;34m]\u001b[0m\u001b[0;34m=\u001b[0m\u001b[0;34m[\u001b[0m\u001b[0;36m1\u001b[0m\u001b[0;34m,\u001b[0m\u001b[0;34m-\u001b[0m\u001b[0mM\u001b[0m\u001b[0;34m]\u001b[0m\u001b[0;31m#upper bound for bj <M*zj\u001b[0m\u001b[0;34m\u001b[0m\u001b[0;34m\u001b[0m\u001b[0m\n\u001b[0m\u001b[1;32m     18\u001b[0m   \u001b[0msense\u001b[0m\u001b[0;34m[\u001b[0m\u001b[0mrw\u001b[0m\u001b[0;34m]\u001b[0m\u001b[0;34m=\u001b[0m\u001b[0;34m'<'\u001b[0m\u001b[0;34m\u001b[0m\u001b[0;34m\u001b[0m\u001b[0m\n\u001b[1;32m     19\u001b[0m \u001b[0;34m\u001b[0m\u001b[0m\n",
            "\u001b[0;31mNameError\u001b[0m: name 'M' is not defined"
          ]
        }
      ]
    },
    {
      "cell_type": "code",
      "metadata": {
        "id": "D9G3BiI3Bv9r"
      },
      "source": [
        "vtype=['C']*51 +['B']*50\n",
        "# obj"
      ],
      "execution_count": null,
      "outputs": []
    },
    {
      "cell_type": "code",
      "metadata": {
        "colab": {
          "base_uri": "https://localhost:8080/",
          "height": 304
        },
        "id": "39NJSYQ4C1iU",
        "outputId": "a11dc2b5-d041-4f36-b708-c05ad5d027b7"
      },
      "source": [
        "biMod = gp.Model()\n",
        "biMod_x = biMod.addMVar(len(obj),vtype=vtype,ub=ub,lb=lb) # vtype can be: 'C' or 'I' or 'B'\n",
        "# biMod_con = biMod.addMConstrs(A, biMod_x, sense, b)\n",
        "# biMod.setMObjective(sigma,obj,0,sense=gp.GRB.MINIMIZE)\n",
        "\n",
        "# biMod.Params.OutputFlag = 0 # tell gurobi to shut up!!\n",
        "# biMod.optimize()"
      ],
      "execution_count": null,
      "outputs": [
        {
          "output_type": "error",
          "ename": "AssertionError",
          "evalue": "ignored",
          "traceback": [
            "\u001b[0;31m---------------------------------------------------------------------------\u001b[0m",
            "\u001b[0;31mAssertionError\u001b[0m                            Traceback (most recent call last)",
            "\u001b[0;32m<ipython-input-24-6e32b781e4b2>\u001b[0m in \u001b[0;36m<module>\u001b[0;34m()\u001b[0m\n\u001b[1;32m      1\u001b[0m \u001b[0mbiMod\u001b[0m \u001b[0;34m=\u001b[0m \u001b[0mgp\u001b[0m\u001b[0;34m.\u001b[0m\u001b[0mModel\u001b[0m\u001b[0;34m(\u001b[0m\u001b[0;34m)\u001b[0m\u001b[0;34m\u001b[0m\u001b[0;34m\u001b[0m\u001b[0m\n\u001b[0;32m----> 2\u001b[0;31m \u001b[0mbiMod_x\u001b[0m \u001b[0;34m=\u001b[0m \u001b[0mbiMod\u001b[0m\u001b[0;34m.\u001b[0m\u001b[0maddMVar\u001b[0m\u001b[0;34m(\u001b[0m\u001b[0mlen\u001b[0m\u001b[0;34m(\u001b[0m\u001b[0mobj\u001b[0m\u001b[0;34m)\u001b[0m\u001b[0;34m,\u001b[0m\u001b[0mvtype\u001b[0m\u001b[0;34m=\u001b[0m\u001b[0mvtype\u001b[0m\u001b[0;34m,\u001b[0m\u001b[0mub\u001b[0m\u001b[0;34m=\u001b[0m\u001b[0mub\u001b[0m\u001b[0;34m,\u001b[0m\u001b[0mlb\u001b[0m\u001b[0;34m=\u001b[0m\u001b[0mlb\u001b[0m\u001b[0;34m)\u001b[0m \u001b[0;31m# vtype can be: 'C' or 'I' or 'B'\u001b[0m\u001b[0;34m\u001b[0m\u001b[0;34m\u001b[0m\u001b[0m\n\u001b[0m\u001b[1;32m      3\u001b[0m \u001b[0;31m# biMod_con = biMod.addMConstrs(A, biMod_x, sense, b)\u001b[0m\u001b[0;34m\u001b[0m\u001b[0;34m\u001b[0m\u001b[0;34m\u001b[0m\u001b[0m\n\u001b[1;32m      4\u001b[0m \u001b[0;31m# biMod.setMObjective(sigma,obj,0,sense=gp.GRB.MINIMIZE)\u001b[0m\u001b[0;34m\u001b[0m\u001b[0;34m\u001b[0m\u001b[0;34m\u001b[0m\u001b[0m\n\u001b[1;32m      5\u001b[0m \u001b[0;34m\u001b[0m\u001b[0m\n",
            "\u001b[0;32msrc/gurobipy/model.pxi\u001b[0m in \u001b[0;36mgurobipy.Model.addMVar\u001b[0;34m()\u001b[0m\n",
            "\u001b[0;32msrc/gurobipy/model.pxi\u001b[0m in \u001b[0;36mgurobipy.Model.addVars\u001b[0;34m()\u001b[0m\n",
            "\u001b[0;31mAssertionError\u001b[0m: "
          ]
        }
      ]
    },
    {
      "cell_type": "code",
      "metadata": {
        "colab": {
          "base_uri": "https://localhost:8080/"
        },
        "id": "wKnHfZvjFOTm",
        "outputId": "9c8a04c7-d454-461e-c99b-0d3b0e910ae9"
      },
      "source": [
        "(x[:,:predictors+1]@biMod.x[:predictors+1]).shape"
      ],
      "execution_count": null,
      "outputs": [
        {
          "output_type": "execute_result",
          "data": {
            "text/plain": [
              "(250,)"
            ]
          },
          "metadata": {},
          "execution_count": 56
        }
      ]
    },
    {
      "cell_type": "code",
      "metadata": {
        "id": "jdxzAkfkFftB"
      },
      "source": [
        "from sklearn.model_selection import train_test_split\n",
        "\n",
        "df_train,df_test=train_test_split(df,train_size=0.8)\n",
        "\n",
        "predictors=df.shape[1]-1\n",
        "\n",
        "number_predictors_allowed=10\n",
        "big_m=20\n",
        "\n",
        "\n",
        "\n",
        "\n",
        "sigma,obj=generate_sigma_obj(df_train)\n",
        "A,b,sense=prepare_constraint_matrix(K=number_predictors_allowed,M=big_m)\n",
        "ub,lb,vtype=formulate_bounds_vtypes(M=big_m)\n",
        "biMod=optimize_loss(A,b,sense,vtype,ub,lb)\n",
        "err=compute_loss(biMod,df_test,return_weight=False)\n",
        "\n",
        "\n",
        "\n",
        "\n",
        "\n"
      ],
      "execution_count": null,
      "outputs": []
    }
  ]
}