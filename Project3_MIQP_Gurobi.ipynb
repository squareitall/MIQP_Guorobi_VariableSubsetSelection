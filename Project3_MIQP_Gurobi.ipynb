{
  "nbformat": 4,
  "nbformat_minor": 0,
  "metadata": {
    "colab": {
      "name": "Project3_MIQP_Gurobi.ipynb",
      "provenance": [],
      "collapsed_sections": []
    },
    "kernelspec": {
      "name": "python3",
      "display_name": "Python 3"
    },
    "language_info": {
      "name": "python"
    },
    "accelerator": "GPU"
  },
  "cells": [
    {
      "cell_type": "code",
      "metadata": {
        "colab": {
          "base_uri": "https://localhost:8080/"
        },
        "id": "N5rHeLNCPLdq",
        "outputId": "72182cc1-82ce-4e21-e708-4da1044d1e0d"
      },
      "source": [
        "!pip install gurobipy"
      ],
      "execution_count": null,
      "outputs": [
        {
          "output_type": "stream",
          "name": "stdout",
          "text": [
            "\r\u001b[K     |████████████████████████████████| 11.5 MB 4.6 MB/s \n",
            "\u001b[?25hInstalling collected packages: gurobipy\n",
            "Successfully installed gurobipy-9.5.0\n"
          ]
        }
      ]
    },
    {
      "cell_type": "code",
      "metadata": {
        "id": "sa5gTAsE21Wd"
      },
      "source": [
        "import pandas as pd\n",
        "import numpy as np\n",
        "import gurobipy as gp\n",
        "\n",
        "\n",
        "from sklearn.model_selection import KFold\n",
        "\n",
        "from sklearn.linear_model import LinearRegression,Lasso\n",
        "from sklearn.metrics import mean_squared_error as mse\n"
      ],
      "execution_count": null,
      "outputs": []
    },
    {
      "cell_type": "code",
      "metadata": {
        "id": "7oOUvbdV28MH"
      },
      "source": [
        "df=pd.read_csv('training_data.csv')\n"
      ],
      "execution_count": null,
      "outputs": []
    },
    {
      "cell_type": "code",
      "metadata": {
        "id": "jVoSHtqHGdj2"
      },
      "source": [
        "def generate_sigma_obj(df):\n",
        "  x=df.drop(['y'],axis=1).values\n",
        "  y=df['y'].values\n",
        "\n",
        "  predictors=x.shape[1]\n",
        "\n",
        "  x=np.concatenate([x,np.ones(shape=(x.shape[0],1))],axis=1)\n",
        "  \n",
        "  sigma=np.zeros(shape=(2*predictors+1,2*predictors+1))\n",
        "  sigma[:predictors+1,:predictors+1]=x.T@x\n",
        "\n",
        "\n",
        "  obj=np.zeros(\n",
        "      shape=(2*predictors+1)\n",
        "  )\n",
        "  obj[:predictors+1]=-2*(y.T@x)\n",
        "\n",
        "  return (sigma,obj)\n"
      ],
      "execution_count": null,
      "outputs": []
    },
    {
      "cell_type": "code",
      "metadata": {
        "id": "mAzRQrUCHuyQ"
      },
      "source": [
        "def prepare_constraint_matrix(K=10,M=20):\n",
        "  global predictors\n",
        "\n",
        "  A=np.zeros((2*predictors+1,\n",
        "              2*predictors+1))\n",
        "  b=np.zeros((2*predictors+1))\n",
        "\n",
        "  sense=np.array(['']*(2*predictors+1))\n",
        "\n",
        "  rw=0\n",
        "  for i in range(predictors):\n",
        "    A[rw,[i,i+predictors+1]]=[1,-M]#upper bound for bj <M*zj\n",
        "    sense[rw]='<'\n",
        "\n",
        "    A[rw+predictors,[i,i+predictors+1]]=[1,M]#lower bound bj >M*zj\n",
        "    sense[rw+predictors]='>'\n",
        "    rw+=1\n",
        "\n",
        "  A[-1,predictors+1:]=[1]*predictors\n",
        "  b[-1]=K\n",
        "  sense[-1]='<'\n",
        "\n",
        "  return (A,b,sense)"
      ],
      "execution_count": null,
      "outputs": []
    },
    {
      "cell_type": "code",
      "metadata": {
        "id": "spy4FymnIkLL"
      },
      "source": [
        "def formulate_bounds_vtypes(M):\n",
        "  global predictors\n",
        "  ub=[M]*predictors +[M*1000] +[1]*predictors\n",
        "  lb=[-M]*predictors +[-M*1000] +[0]*predictors\n",
        "\n",
        "  vtype=['C']*(predictors+1) +['B']*(predictors)\n",
        "\n",
        "  return (ub,lb,vtype)"
      ],
      "execution_count": null,
      "outputs": []
    },
    {
      "cell_type": "code",
      "metadata": {
        "id": "YXhyobI5I_uJ"
      },
      "source": [
        "def optimize_loss(sigma,obj,A,b,sense,vtype,ub,lb):\n",
        "\n",
        "  biMod = gp.Model()\n",
        "  biMod_x = biMod.addMVar(len(obj),vtype=vtype,ub=ub,lb=lb) # vtype can be: 'C' or 'I' or 'B'\n",
        "  biMod_con = biMod.addMConstrs(A, biMod_x, sense, b)\n",
        "  biMod.setMObjective(sigma,obj,0,sense=gp.GRB.MINIMIZE)\n",
        "\n",
        "  biMod.Params.OutputFlag = 0 \n",
        "  biMod.optimize()\n",
        "\n",
        "  return biMod"
      ],
      "execution_count": null,
      "outputs": []
    },
    {
      "cell_type": "code",
      "metadata": {
        "id": "fJ6LO37DJgWV"
      },
      "source": [
        "def compute_loss(biMod,df_test,return_weight=False):\n",
        "  global predictors\n",
        "  x_test=df_test.drop(['y'],axis=1).values\n",
        "  y_test=df_test['y'].values\n",
        "\n",
        "  x_test=np.concatenate([x_test,np.ones(shape=(x_test.shape[0],1))],axis=1)\n",
        "\n",
        "  y_pred=x_test[:,:predictors+1]@biMod.x[:predictors+1]\n",
        "  err=mse(y_test,y_pred)\n",
        "\n",
        "  if return_weight:\n",
        "    return (err,biMod.x[:predictors+1])\n",
        "  return err\n",
        "\n",
        "\n",
        "\n"
      ],
      "execution_count": null,
      "outputs": []
    },
    {
      "cell_type": "code",
      "metadata": {
        "id": "5ol2CEX0Suer"
      },
      "source": [
        "big_m=20\n",
        "number_predictors_allowed=10\n",
        "predictors=df.shape[1]-1\n",
        "\n",
        "\n",
        "def perform_10fold_cv(number_predictors_allowed,big_m=20):\n",
        "  k_fold=KFold(n_splits=10,shuffle=True)\n",
        "\n",
        "\n",
        "  lt_mse=[]\n",
        "  for train_idx,test_idx in k_fold.split(df):\n",
        "    df_train=df.loc[train_idx]\n",
        "    df_test=df.loc[test_idx]\n",
        "\n",
        "    sigma,obj=generate_sigma_obj(df_train)\n",
        "    A,b,sense=prepare_constraint_matrix(K=number_predictors_allowed,M=big_m)\n",
        "    ub,lb,vtype=formulate_bounds_vtypes(M=big_m)\n",
        "    biMod=optimize_loss(sigma,obj,A,b,sense,vtype,ub,lb)\n",
        "    err=compute_loss(biMod,df_test,return_weight=False)\n",
        "\n",
        "    lt_mse.append(err)\n",
        "  return lt_mse\n",
        "\n",
        "\n"
      ],
      "execution_count": null,
      "outputs": []
    },
    {
      "cell_type": "code",
      "metadata": {
        "colab": {
          "base_uri": "https://localhost:8080/"
        },
        "id": "VZ1j_-PfOQy4",
        "outputId": "95979af7-f7a0-4d5b-ae65-8f55286fb783"
      },
      "source": [
        "dict_k={}\n",
        "\n",
        "for k in np.arange(5,55,5):\n",
        "  print(f'processing for {k} predictors','\\n\\n')\n",
        "\n",
        "  temp_lt=perform_10fold_cv(number_predictors_allowed=k)\n",
        "  dict_k[str(k)]=temp_lt"
      ],
      "execution_count": null,
      "outputs": [
        {
          "metadata": {
            "tags": null
          },
          "name": "stdout",
          "output_type": "stream",
          "text": [
            "processing for 5 predictors \n",
            "\n",
            "\n"
          ]
        },
        {
          "metadata": {
            "tags": null
          },
          "name": "stderr",
          "output_type": "stream",
          "text": [
            "/usr/local/lib/python3.7/dist-packages/ipykernel_launcher.py:18: DeprecationWarning: Deprecated, use Model.addMConstr() instead\n",
            "/usr/local/lib/python3.7/dist-packages/ipykernel_launcher.py:18: DeprecationWarning: Deprecated, use Model.addMConstr() instead\n",
            "/usr/local/lib/python3.7/dist-packages/ipykernel_launcher.py:18: DeprecationWarning: Deprecated, use Model.addMConstr() instead\n",
            "/usr/local/lib/python3.7/dist-packages/ipykernel_launcher.py:18: DeprecationWarning: Deprecated, use Model.addMConstr() instead\n",
            "/usr/local/lib/python3.7/dist-packages/ipykernel_launcher.py:18: DeprecationWarning: Deprecated, use Model.addMConstr() instead\n",
            "/usr/local/lib/python3.7/dist-packages/ipykernel_launcher.py:18: DeprecationWarning: Deprecated, use Model.addMConstr() instead\n",
            "/usr/local/lib/python3.7/dist-packages/ipykernel_launcher.py:18: DeprecationWarning: Deprecated, use Model.addMConstr() instead\n",
            "/usr/local/lib/python3.7/dist-packages/ipykernel_launcher.py:18: DeprecationWarning: Deprecated, use Model.addMConstr() instead\n",
            "/usr/local/lib/python3.7/dist-packages/ipykernel_launcher.py:18: DeprecationWarning: Deprecated, use Model.addMConstr() instead\n",
            "/usr/local/lib/python3.7/dist-packages/ipykernel_launcher.py:18: DeprecationWarning: Deprecated, use Model.addMConstr() instead\n"
          ]
        },
        {
          "metadata": {
            "tags": null
          },
          "name": "stdout",
          "output_type": "stream",
          "text": [
            "processing for 10 predictors \n",
            "\n",
            "\n"
          ]
        },
        {
          "metadata": {
            "tags": null
          },
          "name": "stderr",
          "output_type": "stream",
          "text": [
            "/usr/local/lib/python3.7/dist-packages/ipykernel_launcher.py:18: DeprecationWarning: Deprecated, use Model.addMConstr() instead\n",
            "/usr/local/lib/python3.7/dist-packages/ipykernel_launcher.py:18: DeprecationWarning: Deprecated, use Model.addMConstr() instead\n",
            "/usr/local/lib/python3.7/dist-packages/ipykernel_launcher.py:18: DeprecationWarning: Deprecated, use Model.addMConstr() instead\n",
            "/usr/local/lib/python3.7/dist-packages/ipykernel_launcher.py:18: DeprecationWarning: Deprecated, use Model.addMConstr() instead\n",
            "/usr/local/lib/python3.7/dist-packages/ipykernel_launcher.py:18: DeprecationWarning: Deprecated, use Model.addMConstr() instead\n",
            "/usr/local/lib/python3.7/dist-packages/ipykernel_launcher.py:18: DeprecationWarning: Deprecated, use Model.addMConstr() instead\n",
            "/usr/local/lib/python3.7/dist-packages/ipykernel_launcher.py:18: DeprecationWarning: Deprecated, use Model.addMConstr() instead\n",
            "/usr/local/lib/python3.7/dist-packages/ipykernel_launcher.py:18: DeprecationWarning: Deprecated, use Model.addMConstr() instead\n",
            "/usr/local/lib/python3.7/dist-packages/ipykernel_launcher.py:18: DeprecationWarning: Deprecated, use Model.addMConstr() instead\n",
            "/usr/local/lib/python3.7/dist-packages/ipykernel_launcher.py:18: DeprecationWarning: Deprecated, use Model.addMConstr() instead\n"
          ]
        },
        {
          "metadata": {
            "tags": null
          },
          "name": "stdout",
          "output_type": "stream",
          "text": [
            "processing for 15 predictors \n",
            "\n",
            "\n"
          ]
        },
        {
          "metadata": {
            "tags": null
          },
          "name": "stderr",
          "output_type": "stream",
          "text": [
            "/usr/local/lib/python3.7/dist-packages/ipykernel_launcher.py:18: DeprecationWarning: Deprecated, use Model.addMConstr() instead\n",
            "/usr/local/lib/python3.7/dist-packages/ipykernel_launcher.py:18: DeprecationWarning: Deprecated, use Model.addMConstr() instead\n",
            "/usr/local/lib/python3.7/dist-packages/ipykernel_launcher.py:18: DeprecationWarning: Deprecated, use Model.addMConstr() instead\n",
            "/usr/local/lib/python3.7/dist-packages/ipykernel_launcher.py:18: DeprecationWarning: Deprecated, use Model.addMConstr() instead\n",
            "/usr/local/lib/python3.7/dist-packages/ipykernel_launcher.py:18: DeprecationWarning: Deprecated, use Model.addMConstr() instead\n",
            "/usr/local/lib/python3.7/dist-packages/ipykernel_launcher.py:18: DeprecationWarning: Deprecated, use Model.addMConstr() instead\n",
            "/usr/local/lib/python3.7/dist-packages/ipykernel_launcher.py:18: DeprecationWarning: Deprecated, use Model.addMConstr() instead\n",
            "/usr/local/lib/python3.7/dist-packages/ipykernel_launcher.py:18: DeprecationWarning: Deprecated, use Model.addMConstr() instead\n",
            "/usr/local/lib/python3.7/dist-packages/ipykernel_launcher.py:18: DeprecationWarning: Deprecated, use Model.addMConstr() instead\n",
            "/usr/local/lib/python3.7/dist-packages/ipykernel_launcher.py:18: DeprecationWarning: Deprecated, use Model.addMConstr() instead\n"
          ]
        },
        {
          "metadata": {
            "tags": null
          },
          "name": "stdout",
          "output_type": "stream",
          "text": [
            "processing for 20 predictors \n",
            "\n",
            "\n"
          ]
        },
        {
          "output_type": "stream",
          "name": "stderr",
          "text": [
            "/usr/local/lib/python3.7/dist-packages/ipykernel_launcher.py:18: DeprecationWarning: Deprecated, use Model.addMConstr() instead\n",
            "/usr/local/lib/python3.7/dist-packages/ipykernel_launcher.py:18: DeprecationWarning: Deprecated, use Model.addMConstr() instead\n",
            "/usr/local/lib/python3.7/dist-packages/ipykernel_launcher.py:18: DeprecationWarning: Deprecated, use Model.addMConstr() instead\n",
            "/usr/local/lib/python3.7/dist-packages/ipykernel_launcher.py:18: DeprecationWarning: Deprecated, use Model.addMConstr() instead\n",
            "/usr/local/lib/python3.7/dist-packages/ipykernel_launcher.py:18: DeprecationWarning: Deprecated, use Model.addMConstr() instead\n",
            "/usr/local/lib/python3.7/dist-packages/ipykernel_launcher.py:18: DeprecationWarning: Deprecated, use Model.addMConstr() instead\n",
            "/usr/local/lib/python3.7/dist-packages/ipykernel_launcher.py:18: DeprecationWarning: Deprecated, use Model.addMConstr() instead\n",
            "/usr/local/lib/python3.7/dist-packages/ipykernel_launcher.py:18: DeprecationWarning: Deprecated, use Model.addMConstr() instead\n",
            "/usr/local/lib/python3.7/dist-packages/ipykernel_launcher.py:18: DeprecationWarning: Deprecated, use Model.addMConstr() instead\n",
            "/usr/local/lib/python3.7/dist-packages/ipykernel_launcher.py:18: DeprecationWarning: Deprecated, use Model.addMConstr() instead\n"
          ]
        },
        {
          "output_type": "stream",
          "name": "stdout",
          "text": [
            "processing for 25 predictors \n",
            "\n",
            "\n"
          ]
        },
        {
          "output_type": "stream",
          "name": "stderr",
          "text": [
            "/usr/local/lib/python3.7/dist-packages/ipykernel_launcher.py:18: DeprecationWarning: Deprecated, use Model.addMConstr() instead\n",
            "/usr/local/lib/python3.7/dist-packages/ipykernel_launcher.py:18: DeprecationWarning: Deprecated, use Model.addMConstr() instead\n",
            "/usr/local/lib/python3.7/dist-packages/ipykernel_launcher.py:18: DeprecationWarning: Deprecated, use Model.addMConstr() instead\n",
            "/usr/local/lib/python3.7/dist-packages/ipykernel_launcher.py:18: DeprecationWarning: Deprecated, use Model.addMConstr() instead\n",
            "/usr/local/lib/python3.7/dist-packages/ipykernel_launcher.py:18: DeprecationWarning: Deprecated, use Model.addMConstr() instead\n",
            "/usr/local/lib/python3.7/dist-packages/ipykernel_launcher.py:18: DeprecationWarning: Deprecated, use Model.addMConstr() instead\n",
            "/usr/local/lib/python3.7/dist-packages/ipykernel_launcher.py:18: DeprecationWarning: Deprecated, use Model.addMConstr() instead\n",
            "/usr/local/lib/python3.7/dist-packages/ipykernel_launcher.py:18: DeprecationWarning: Deprecated, use Model.addMConstr() instead\n",
            "/usr/local/lib/python3.7/dist-packages/ipykernel_launcher.py:18: DeprecationWarning: Deprecated, use Model.addMConstr() instead\n",
            "/usr/local/lib/python3.7/dist-packages/ipykernel_launcher.py:18: DeprecationWarning: Deprecated, use Model.addMConstr() instead\n"
          ]
        },
        {
          "output_type": "stream",
          "name": "stdout",
          "text": [
            "processing for 30 predictors \n",
            "\n",
            "\n"
          ]
        },
        {
          "output_type": "stream",
          "name": "stderr",
          "text": [
            "/usr/local/lib/python3.7/dist-packages/ipykernel_launcher.py:18: DeprecationWarning: Deprecated, use Model.addMConstr() instead\n",
            "/usr/local/lib/python3.7/dist-packages/ipykernel_launcher.py:18: DeprecationWarning: Deprecated, use Model.addMConstr() instead\n",
            "/usr/local/lib/python3.7/dist-packages/ipykernel_launcher.py:18: DeprecationWarning: Deprecated, use Model.addMConstr() instead\n",
            "/usr/local/lib/python3.7/dist-packages/ipykernel_launcher.py:18: DeprecationWarning: Deprecated, use Model.addMConstr() instead\n",
            "/usr/local/lib/python3.7/dist-packages/ipykernel_launcher.py:18: DeprecationWarning: Deprecated, use Model.addMConstr() instead\n",
            "/usr/local/lib/python3.7/dist-packages/ipykernel_launcher.py:18: DeprecationWarning: Deprecated, use Model.addMConstr() instead\n",
            "/usr/local/lib/python3.7/dist-packages/ipykernel_launcher.py:18: DeprecationWarning: Deprecated, use Model.addMConstr() instead\n",
            "/usr/local/lib/python3.7/dist-packages/ipykernel_launcher.py:18: DeprecationWarning: Deprecated, use Model.addMConstr() instead\n",
            "/usr/local/lib/python3.7/dist-packages/ipykernel_launcher.py:18: DeprecationWarning: Deprecated, use Model.addMConstr() instead\n",
            "/usr/local/lib/python3.7/dist-packages/ipykernel_launcher.py:18: DeprecationWarning: Deprecated, use Model.addMConstr() instead\n"
          ]
        },
        {
          "output_type": "stream",
          "name": "stdout",
          "text": [
            "processing for 35 predictors \n",
            "\n",
            "\n"
          ]
        },
        {
          "output_type": "stream",
          "name": "stderr",
          "text": [
            "/usr/local/lib/python3.7/dist-packages/ipykernel_launcher.py:18: DeprecationWarning: Deprecated, use Model.addMConstr() instead\n",
            "/usr/local/lib/python3.7/dist-packages/ipykernel_launcher.py:18: DeprecationWarning: Deprecated, use Model.addMConstr() instead\n",
            "/usr/local/lib/python3.7/dist-packages/ipykernel_launcher.py:18: DeprecationWarning: Deprecated, use Model.addMConstr() instead\n",
            "/usr/local/lib/python3.7/dist-packages/ipykernel_launcher.py:18: DeprecationWarning: Deprecated, use Model.addMConstr() instead\n",
            "/usr/local/lib/python3.7/dist-packages/ipykernel_launcher.py:18: DeprecationWarning: Deprecated, use Model.addMConstr() instead\n",
            "/usr/local/lib/python3.7/dist-packages/ipykernel_launcher.py:18: DeprecationWarning: Deprecated, use Model.addMConstr() instead\n",
            "/usr/local/lib/python3.7/dist-packages/ipykernel_launcher.py:18: DeprecationWarning: Deprecated, use Model.addMConstr() instead\n",
            "/usr/local/lib/python3.7/dist-packages/ipykernel_launcher.py:18: DeprecationWarning: Deprecated, use Model.addMConstr() instead\n",
            "/usr/local/lib/python3.7/dist-packages/ipykernel_launcher.py:18: DeprecationWarning: Deprecated, use Model.addMConstr() instead\n",
            "/usr/local/lib/python3.7/dist-packages/ipykernel_launcher.py:18: DeprecationWarning: Deprecated, use Model.addMConstr() instead\n"
          ]
        },
        {
          "output_type": "stream",
          "name": "stdout",
          "text": [
            "processing for 40 predictors \n",
            "\n",
            "\n"
          ]
        },
        {
          "output_type": "stream",
          "name": "stderr",
          "text": [
            "/usr/local/lib/python3.7/dist-packages/ipykernel_launcher.py:18: DeprecationWarning: Deprecated, use Model.addMConstr() instead\n",
            "/usr/local/lib/python3.7/dist-packages/ipykernel_launcher.py:18: DeprecationWarning: Deprecated, use Model.addMConstr() instead\n",
            "/usr/local/lib/python3.7/dist-packages/ipykernel_launcher.py:18: DeprecationWarning: Deprecated, use Model.addMConstr() instead\n",
            "/usr/local/lib/python3.7/dist-packages/ipykernel_launcher.py:18: DeprecationWarning: Deprecated, use Model.addMConstr() instead\n",
            "/usr/local/lib/python3.7/dist-packages/ipykernel_launcher.py:18: DeprecationWarning: Deprecated, use Model.addMConstr() instead\n",
            "/usr/local/lib/python3.7/dist-packages/ipykernel_launcher.py:18: DeprecationWarning: Deprecated, use Model.addMConstr() instead\n",
            "/usr/local/lib/python3.7/dist-packages/ipykernel_launcher.py:18: DeprecationWarning: Deprecated, use Model.addMConstr() instead\n",
            "/usr/local/lib/python3.7/dist-packages/ipykernel_launcher.py:18: DeprecationWarning: Deprecated, use Model.addMConstr() instead\n",
            "/usr/local/lib/python3.7/dist-packages/ipykernel_launcher.py:18: DeprecationWarning: Deprecated, use Model.addMConstr() instead\n",
            "/usr/local/lib/python3.7/dist-packages/ipykernel_launcher.py:18: DeprecationWarning: Deprecated, use Model.addMConstr() instead\n",
            "/usr/local/lib/python3.7/dist-packages/ipykernel_launcher.py:18: DeprecationWarning: Deprecated, use Model.addMConstr() instead\n"
          ]
        },
        {
          "output_type": "stream",
          "name": "stdout",
          "text": [
            "processing for 45 predictors \n",
            "\n",
            "\n"
          ]
        },
        {
          "output_type": "stream",
          "name": "stderr",
          "text": [
            "/usr/local/lib/python3.7/dist-packages/ipykernel_launcher.py:18: DeprecationWarning: Deprecated, use Model.addMConstr() instead\n",
            "/usr/local/lib/python3.7/dist-packages/ipykernel_launcher.py:18: DeprecationWarning: Deprecated, use Model.addMConstr() instead\n",
            "/usr/local/lib/python3.7/dist-packages/ipykernel_launcher.py:18: DeprecationWarning: Deprecated, use Model.addMConstr() instead\n",
            "/usr/local/lib/python3.7/dist-packages/ipykernel_launcher.py:18: DeprecationWarning: Deprecated, use Model.addMConstr() instead\n",
            "/usr/local/lib/python3.7/dist-packages/ipykernel_launcher.py:18: DeprecationWarning: Deprecated, use Model.addMConstr() instead\n",
            "/usr/local/lib/python3.7/dist-packages/ipykernel_launcher.py:18: DeprecationWarning: Deprecated, use Model.addMConstr() instead\n",
            "/usr/local/lib/python3.7/dist-packages/ipykernel_launcher.py:18: DeprecationWarning: Deprecated, use Model.addMConstr() instead\n",
            "/usr/local/lib/python3.7/dist-packages/ipykernel_launcher.py:18: DeprecationWarning: Deprecated, use Model.addMConstr() instead\n",
            "/usr/local/lib/python3.7/dist-packages/ipykernel_launcher.py:18: DeprecationWarning: Deprecated, use Model.addMConstr() instead\n",
            "/usr/local/lib/python3.7/dist-packages/ipykernel_launcher.py:18: DeprecationWarning: Deprecated, use Model.addMConstr() instead\n",
            "/usr/local/lib/python3.7/dist-packages/ipykernel_launcher.py:18: DeprecationWarning: Deprecated, use Model.addMConstr() instead\n",
            "/usr/local/lib/python3.7/dist-packages/ipykernel_launcher.py:18: DeprecationWarning: Deprecated, use Model.addMConstr() instead\n",
            "/usr/local/lib/python3.7/dist-packages/ipykernel_launcher.py:18: DeprecationWarning: Deprecated, use Model.addMConstr() instead\n"
          ]
        },
        {
          "output_type": "stream",
          "name": "stdout",
          "text": [
            "processing for 50 predictors \n",
            "\n",
            "\n"
          ]
        },
        {
          "output_type": "stream",
          "name": "stderr",
          "text": [
            "/usr/local/lib/python3.7/dist-packages/ipykernel_launcher.py:18: DeprecationWarning: Deprecated, use Model.addMConstr() instead\n",
            "/usr/local/lib/python3.7/dist-packages/ipykernel_launcher.py:18: DeprecationWarning: Deprecated, use Model.addMConstr() instead\n",
            "/usr/local/lib/python3.7/dist-packages/ipykernel_launcher.py:18: DeprecationWarning: Deprecated, use Model.addMConstr() instead\n",
            "/usr/local/lib/python3.7/dist-packages/ipykernel_launcher.py:18: DeprecationWarning: Deprecated, use Model.addMConstr() instead\n",
            "/usr/local/lib/python3.7/dist-packages/ipykernel_launcher.py:18: DeprecationWarning: Deprecated, use Model.addMConstr() instead\n",
            "/usr/local/lib/python3.7/dist-packages/ipykernel_launcher.py:18: DeprecationWarning: Deprecated, use Model.addMConstr() instead\n"
          ]
        }
      ]
    },
    {
      "cell_type": "code",
      "metadata": {
        "colab": {
          "base_uri": "https://localhost:8080/"
        },
        "id": "Jp9YhPGFVTCm",
        "outputId": "ce1a31d2-99f7-45aa-8795-f55ae8cc3d0c"
      },
      "source": [
        "pd.DataFrame(dict_k).mean(axis=0)#.to_csv('err.csv')"
      ],
      "execution_count": null,
      "outputs": [
        {
          "output_type": "execute_result",
          "data": {
            "text/plain": [
              "5     3.859177\n",
              "10    2.872555\n",
              "15    3.070032\n",
              "20    3.284382\n",
              "25    3.277699\n",
              "30    3.428896\n",
              "35    3.221228\n",
              "40    3.196468\n",
              "45    3.507588\n",
              "50    3.289136\n",
              "dtype: float64"
            ]
          },
          "metadata": {},
          "execution_count": 29
        }
      ]
    },
    {
      "cell_type": "markdown",
      "metadata": {
        "id": "aEk2KFef_kzC"
      },
      "source": [
        "# Constraints"
      ]
    },
    {
      "cell_type": "code",
      "metadata": {
        "id": "pPuJCyPjR470"
      },
      "source": [
        "x=df.drop(['y'],axis=1).values\n",
        "y=df['y'].values#.reshape(-1,1)\n",
        "\n",
        "x=np.concatenate([x,np.ones(shape=(x.shape[0],1))],axis=1)\n",
        "\n",
        "#We have an alzebraic formulation for all the predictors and intercept, we need to incorporate z based pivot variables in our loss function\n",
        "#This needs to be done beacus eof the design of scipy optimization instance that requires variable to be of fixed length in our constraint and loss function\n",
        "\n",
        "expanded_loss_term1=np.zeros(shape=(2*predictors+1,2*predictors+1))\n",
        "expanded_loss_term1[:predictors+1,:predictors+1]=x.T@x\n",
        "\n",
        "\n",
        "expanded_loss_term2=np.zeros(\n",
        "    shape=(2*predictors+1)\n",
        ")\n",
        "expanded_loss_term2[:predictors+1]=-2*(y.T@x)\n",
        "\n",
        "#Thus we have formulated two terms for our loss function\n",
        "\n",
        "sigma=expanded_loss_term1\n",
        "obj=expanded_loss_term2\n",
        "\n"
      ],
      "execution_count": null,
      "outputs": []
    },
    {
      "cell_type": "code",
      "metadata": {
        "colab": {
          "base_uri": "https://localhost:8080/",
          "height": 234
        },
        "id": "3KKCqqHrCfPL",
        "outputId": "11f007c1-4993-455c-c752-88a0b16534b5"
      },
      "source": [
        "#Finding appropriate M by computing regression coefficients of our dataset\n",
        "\n",
        "lt_coefs=[]\n",
        "\n",
        "lr=LinearRegression()\n",
        "lr.fit(x,y)\n",
        "lt_coefs.extend(lr.coef_)\n",
        "\n",
        "for i in range(x.shape[1]):\n",
        "  lr=LinearRegression()\n",
        "  lr.fit(x[:,i].reshape(-1,1),y)\n",
        "  lt_coefs.extend(lr.coef_)\n",
        "\n",
        "\n",
        "print(np.max(np.absolute(np.array(lt_coefs))))\n",
        "# Our starting M can be--> 100 >>2.8*10\n",
        "M=np.round(np.max(np.absolute(np.array(lt_coefs)))*10,-2)\n",
        "M=20\n",
        "\n",
        "bounds=[(0,1.1) for _ in range(51)]+[(-M,M) for _ in range(predictors)]\n"
      ],
      "execution_count": null,
      "outputs": [
        {
          "output_type": "error",
          "ename": "NameError",
          "evalue": "ignored",
          "traceback": [
            "\u001b[0;31m---------------------------------------------------------------------------\u001b[0m",
            "\u001b[0;31mNameError\u001b[0m                                 Traceback (most recent call last)",
            "\u001b[0;32m<ipython-input-15-56b8f88940a0>\u001b[0m in \u001b[0;36m<module>\u001b[0;34m()\u001b[0m\n\u001b[1;32m      4\u001b[0m \u001b[0;34m\u001b[0m\u001b[0m\n\u001b[1;32m      5\u001b[0m \u001b[0mlr\u001b[0m\u001b[0;34m=\u001b[0m\u001b[0mLinearRegression\u001b[0m\u001b[0;34m(\u001b[0m\u001b[0;34m)\u001b[0m\u001b[0;34m\u001b[0m\u001b[0;34m\u001b[0m\u001b[0m\n\u001b[0;32m----> 6\u001b[0;31m \u001b[0mlr\u001b[0m\u001b[0;34m.\u001b[0m\u001b[0mfit\u001b[0m\u001b[0;34m(\u001b[0m\u001b[0mx\u001b[0m\u001b[0;34m,\u001b[0m\u001b[0my\u001b[0m\u001b[0;34m)\u001b[0m\u001b[0;34m\u001b[0m\u001b[0;34m\u001b[0m\u001b[0m\n\u001b[0m\u001b[1;32m      7\u001b[0m \u001b[0mlt_coefs\u001b[0m\u001b[0;34m.\u001b[0m\u001b[0mextend\u001b[0m\u001b[0;34m(\u001b[0m\u001b[0mlr\u001b[0m\u001b[0;34m.\u001b[0m\u001b[0mcoef_\u001b[0m\u001b[0;34m)\u001b[0m\u001b[0;34m\u001b[0m\u001b[0;34m\u001b[0m\u001b[0m\n\u001b[1;32m      8\u001b[0m \u001b[0;34m\u001b[0m\u001b[0m\n",
            "\u001b[0;31mNameError\u001b[0m: name 'x' is not defined"
          ]
        }
      ]
    },
    {
      "cell_type": "code",
      "metadata": {
        "colab": {
          "base_uri": "https://localhost:8080/",
          "height": 234
        },
        "id": "lRYanOu0_hFm",
        "outputId": "fd285c2d-b5b7-4640-9bcf-3801ca72bacf"
      },
      "source": [
        "#Big M constraints for every predictor\n",
        "#2* preditors number of constraints\n",
        "#Orientation of the decision variables - preditors + intercept + gates(decision variables)\n",
        "\n",
        "#1 constraint for z number of variables\n",
        "\n",
        "K=25\n",
        "\n",
        "A=np.zeros((2*predictors+1,\n",
        "            2*predictors+1))\n",
        "b=np.zeros((2*predictors+1))\n",
        "\n",
        "sense=np.array(['']*(2*predictors+1))\n",
        "\n",
        "rw=0\n",
        "for i in range(predictors):\n",
        "  A[rw,[i,i+predictors+1]]=[1,-M]#upper bound for bj <M*zj\n",
        "  sense[rw]='<'\n",
        "\n",
        "  A[rw+predictors,[i,i+predictors+1]]=[1,M]#lower bound bj >M*zj\n",
        "  sense[rw+predictors]='>'\n",
        "\n",
        "  rw+=1\n",
        "\n",
        "A[-1,predictors+1:]=[1]*50\n",
        "b[-1]=K\n",
        "sense[-1]='<'\n",
        "\n",
        "ub=[M]*50 +[M*1000] +[1]*50\n",
        "lb=[-M]*50 +[-M*1000] +[0]*50\n",
        "\n",
        "vtype=['C']*(predictors+1) +['B']*50"
      ],
      "execution_count": null,
      "outputs": [
        {
          "output_type": "error",
          "ename": "NameError",
          "evalue": "ignored",
          "traceback": [
            "\u001b[0;31m---------------------------------------------------------------------------\u001b[0m",
            "\u001b[0;31mNameError\u001b[0m                                 Traceback (most recent call last)",
            "\u001b[0;32m<ipython-input-14-53106e891b62>\u001b[0m in \u001b[0;36m<module>\u001b[0;34m()\u001b[0m\n\u001b[1;32m     15\u001b[0m \u001b[0mrw\u001b[0m\u001b[0;34m=\u001b[0m\u001b[0;36m0\u001b[0m\u001b[0;34m\u001b[0m\u001b[0;34m\u001b[0m\u001b[0m\n\u001b[1;32m     16\u001b[0m \u001b[0;32mfor\u001b[0m \u001b[0mi\u001b[0m \u001b[0;32min\u001b[0m \u001b[0mrange\u001b[0m\u001b[0;34m(\u001b[0m\u001b[0mpredictors\u001b[0m\u001b[0;34m)\u001b[0m\u001b[0;34m:\u001b[0m\u001b[0;34m\u001b[0m\u001b[0;34m\u001b[0m\u001b[0m\n\u001b[0;32m---> 17\u001b[0;31m   \u001b[0mA\u001b[0m\u001b[0;34m[\u001b[0m\u001b[0mrw\u001b[0m\u001b[0;34m,\u001b[0m\u001b[0;34m[\u001b[0m\u001b[0mi\u001b[0m\u001b[0;34m,\u001b[0m\u001b[0mi\u001b[0m\u001b[0;34m+\u001b[0m\u001b[0mpredictors\u001b[0m\u001b[0;34m+\u001b[0m\u001b[0;36m1\u001b[0m\u001b[0;34m]\u001b[0m\u001b[0;34m]\u001b[0m\u001b[0;34m=\u001b[0m\u001b[0;34m[\u001b[0m\u001b[0;36m1\u001b[0m\u001b[0;34m,\u001b[0m\u001b[0;34m-\u001b[0m\u001b[0mM\u001b[0m\u001b[0;34m]\u001b[0m\u001b[0;31m#upper bound for bj <M*zj\u001b[0m\u001b[0;34m\u001b[0m\u001b[0;34m\u001b[0m\u001b[0m\n\u001b[0m\u001b[1;32m     18\u001b[0m   \u001b[0msense\u001b[0m\u001b[0;34m[\u001b[0m\u001b[0mrw\u001b[0m\u001b[0;34m]\u001b[0m\u001b[0;34m=\u001b[0m\u001b[0;34m'<'\u001b[0m\u001b[0;34m\u001b[0m\u001b[0;34m\u001b[0m\u001b[0m\n\u001b[1;32m     19\u001b[0m \u001b[0;34m\u001b[0m\u001b[0m\n",
            "\u001b[0;31mNameError\u001b[0m: name 'M' is not defined"
          ]
        }
      ]
    },
    {
      "cell_type": "code",
      "metadata": {
        "id": "D9G3BiI3Bv9r"
      },
      "source": [
        "vtype=['C']*51 +['B']*50\n",
        "# obj"
      ],
      "execution_count": null,
      "outputs": []
    },
    {
      "cell_type": "code",
      "metadata": {
        "colab": {
          "base_uri": "https://localhost:8080/",
          "height": 304
        },
        "id": "39NJSYQ4C1iU",
        "outputId": "a11dc2b5-d041-4f36-b708-c05ad5d027b7"
      },
      "source": [
        "biMod = gp.Model()\n",
        "biMod_x = biMod.addMVar(len(obj),vtype=vtype,ub=ub,lb=lb) # vtype can be: 'C' or 'I' or 'B'\n",
        "# biMod_con = biMod.addMConstrs(A, biMod_x, sense, b)\n",
        "# biMod.setMObjective(sigma,obj,0,sense=gp.GRB.MINIMIZE)\n",
        "\n",
        "# biMod.Params.OutputFlag = 0 # tell gurobi to shut up!!\n",
        "# biMod.optimize()"
      ],
      "execution_count": null,
      "outputs": [
        {
          "output_type": "error",
          "ename": "AssertionError",
          "evalue": "ignored",
          "traceback": [
            "\u001b[0;31m---------------------------------------------------------------------------\u001b[0m",
            "\u001b[0;31mAssertionError\u001b[0m                            Traceback (most recent call last)",
            "\u001b[0;32m<ipython-input-24-6e32b781e4b2>\u001b[0m in \u001b[0;36m<module>\u001b[0;34m()\u001b[0m\n\u001b[1;32m      1\u001b[0m \u001b[0mbiMod\u001b[0m \u001b[0;34m=\u001b[0m \u001b[0mgp\u001b[0m\u001b[0;34m.\u001b[0m\u001b[0mModel\u001b[0m\u001b[0;34m(\u001b[0m\u001b[0;34m)\u001b[0m\u001b[0;34m\u001b[0m\u001b[0;34m\u001b[0m\u001b[0m\n\u001b[0;32m----> 2\u001b[0;31m \u001b[0mbiMod_x\u001b[0m \u001b[0;34m=\u001b[0m \u001b[0mbiMod\u001b[0m\u001b[0;34m.\u001b[0m\u001b[0maddMVar\u001b[0m\u001b[0;34m(\u001b[0m\u001b[0mlen\u001b[0m\u001b[0;34m(\u001b[0m\u001b[0mobj\u001b[0m\u001b[0;34m)\u001b[0m\u001b[0;34m,\u001b[0m\u001b[0mvtype\u001b[0m\u001b[0;34m=\u001b[0m\u001b[0mvtype\u001b[0m\u001b[0;34m,\u001b[0m\u001b[0mub\u001b[0m\u001b[0;34m=\u001b[0m\u001b[0mub\u001b[0m\u001b[0;34m,\u001b[0m\u001b[0mlb\u001b[0m\u001b[0;34m=\u001b[0m\u001b[0mlb\u001b[0m\u001b[0;34m)\u001b[0m \u001b[0;31m# vtype can be: 'C' or 'I' or 'B'\u001b[0m\u001b[0;34m\u001b[0m\u001b[0;34m\u001b[0m\u001b[0m\n\u001b[0m\u001b[1;32m      3\u001b[0m \u001b[0;31m# biMod_con = biMod.addMConstrs(A, biMod_x, sense, b)\u001b[0m\u001b[0;34m\u001b[0m\u001b[0;34m\u001b[0m\u001b[0;34m\u001b[0m\u001b[0m\n\u001b[1;32m      4\u001b[0m \u001b[0;31m# biMod.setMObjective(sigma,obj,0,sense=gp.GRB.MINIMIZE)\u001b[0m\u001b[0;34m\u001b[0m\u001b[0;34m\u001b[0m\u001b[0;34m\u001b[0m\u001b[0m\n\u001b[1;32m      5\u001b[0m \u001b[0;34m\u001b[0m\u001b[0m\n",
            "\u001b[0;32msrc/gurobipy/model.pxi\u001b[0m in \u001b[0;36mgurobipy.Model.addMVar\u001b[0;34m()\u001b[0m\n",
            "\u001b[0;32msrc/gurobipy/model.pxi\u001b[0m in \u001b[0;36mgurobipy.Model.addVars\u001b[0;34m()\u001b[0m\n",
            "\u001b[0;31mAssertionError\u001b[0m: "
          ]
        }
      ]
    },
    {
      "cell_type": "code",
      "metadata": {
        "colab": {
          "base_uri": "https://localhost:8080/"
        },
        "id": "wKnHfZvjFOTm",
        "outputId": "9c8a04c7-d454-461e-c99b-0d3b0e910ae9"
      },
      "source": [
        "(x[:,:predictors+1]@biMod.x[:predictors+1]).shape"
      ],
      "execution_count": null,
      "outputs": [
        {
          "output_type": "execute_result",
          "data": {
            "text/plain": [
              "(250,)"
            ]
          },
          "metadata": {},
          "execution_count": 56
        }
      ]
    },
    {
      "cell_type": "code",
      "metadata": {
        "id": "jdxzAkfkFftB"
      },
      "source": [
        "from sklearn.model_selection import train_test_split\n",
        "\n",
        "df_train,df_test=train_test_split(df,train_size=0.8)\n",
        "\n",
        "predictors=df.shape[1]-1\n",
        "\n",
        "number_predictors_allowed=10\n",
        "big_m=20\n",
        "\n",
        "\n",
        "\n",
        "\n",
        "sigma,obj=generate_sigma_obj(df_train)\n",
        "A,b,sense=prepare_constraint_matrix(K=number_predictors_allowed,M=big_m)\n",
        "ub,lb,vtype=formulate_bounds_vtypes(M=big_m)\n",
        "biMod=optimize_loss(A,b,sense,vtype,ub,lb)\n",
        "err=compute_loss(biMod,df_test,return_weight=False)\n",
        "\n",
        "\n",
        "\n",
        "\n",
        "\n"
      ],
      "execution_count": null,
      "outputs": []
    }
  ]
}