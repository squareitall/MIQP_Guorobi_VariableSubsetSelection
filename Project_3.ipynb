{
 "cells": [
  {
   "cell_type": "code",
   "execution_count": 1,
   "id": "6cd5b9f5-23b1-4b6c-a671-f63ad9d1176a",
   "metadata": {},
   "outputs": [],
   "source": [
    "import numpy as np\n",
    "import pandas as pd\n",
    "import gurobipy as gp\n",
    "from tqdm import tqdm\n",
    "import json\n",
    "from sklearn.model_selection import GridSearchCV\n",
    "from sklearn.linear_model import Lasso"
   ]
  },
  {
   "cell_type": "code",
   "execution_count": 3,
   "id": "6ae67bfa-9ebc-4935-9f7d-d8dd5d0f4575",
   "metadata": {},
   "outputs": [],
   "source": [
    "training = pd.read_csv('training_data.csv')\n",
    "testing = pd.read_csv('test_data.csv')"
   ]
  },
  {
   "cell_type": "code",
   "execution_count": 4,
   "id": "0d944d22-354e-45e7-a4ba-55872db7dfa3",
   "metadata": {},
   "outputs": [],
   "source": [
    "m = training.shape[1]-1\n",
    "n = training.shape[0]\n",
    "training['cv'] = np.random.choice(10,250,replace=True)\n",
    "X = np.ones((n,m+1))\n",
    "X[:,1:] = training.iloc[:,1:-1].values\n",
    "y = training.iloc[:,0].values"
   ]
  },
  {
   "cell_type": "code",
   "execution_count": 5,
   "id": "17a88e66-3a45-44b3-8693-bbf47ee2645e",
   "metadata": {},
   "outputs": [],
   "source": [
    "results = pd.DataFrame(columns=['k', 'cv_index', 'betas','ssr'])"
   ]
  },
  {
   "cell_type": "code",
   "execution_count": 6,
   "id": "68ca4ec9-89b5-428a-a225-3238e0b18580",
   "metadata": {},
   "outputs": [],
   "source": [
    "ks = [i for i in range(5,m+1,5)]\n",
    "M = 15"
   ]
  },
  {
   "cell_type": "code",
   "execution_count": 8,
   "id": "547d7837-49c7-4b8f-8aef-00c1e51958cc",
   "metadata": {
    "collapsed": true,
    "jupyter": {
     "outputs_hidden": true
    },
    "tags": []
   },
   "outputs": [
    {
     "name": "stdout",
     "output_type": "stream",
     "text": [
      "Changed value of parameter TimeLimit to 500.0\n",
      "   Prev: inf  Min: 0.0  Max: inf  Default: inf\n",
      "Changed value of parameter TimeLimit to 500.0\n",
      "   Prev: inf  Min: 0.0  Max: inf  Default: inf\n",
      "Changed value of parameter TimeLimit to 500.0\n",
      "   Prev: inf  Min: 0.0  Max: inf  Default: inf\n",
      "Changed value of parameter TimeLimit to 500.0\n",
      "   Prev: inf  Min: 0.0  Max: inf  Default: inf\n",
      "Changed value of parameter TimeLimit to 500.0\n",
      "   Prev: inf  Min: 0.0  Max: inf  Default: inf\n",
      "Changed value of parameter TimeLimit to 500.0\n",
      "   Prev: inf  Min: 0.0  Max: inf  Default: inf\n",
      "Changed value of parameter TimeLimit to 500.0\n",
      "   Prev: inf  Min: 0.0  Max: inf  Default: inf\n",
      "Changed value of parameter TimeLimit to 500.0\n",
      "   Prev: inf  Min: 0.0  Max: inf  Default: inf\n",
      "Changed value of parameter TimeLimit to 500.0\n",
      "   Prev: inf  Min: 0.0  Max: inf  Default: inf\n",
      "Changed value of parameter TimeLimit to 500.0\n",
      "   Prev: inf  Min: 0.0  Max: inf  Default: inf\n",
      "Changed value of parameter TimeLimit to 500.0\n",
      "   Prev: inf  Min: 0.0  Max: inf  Default: inf\n",
      "Changed value of parameter TimeLimit to 500.0\n",
      "   Prev: inf  Min: 0.0  Max: inf  Default: inf\n",
      "Changed value of parameter TimeLimit to 500.0\n",
      "   Prev: inf  Min: 0.0  Max: inf  Default: inf\n",
      "Changed value of parameter TimeLimit to 500.0\n",
      "   Prev: inf  Min: 0.0  Max: inf  Default: inf\n",
      "Changed value of parameter TimeLimit to 500.0\n",
      "   Prev: inf  Min: 0.0  Max: inf  Default: inf\n",
      "Changed value of parameter TimeLimit to 500.0\n",
      "   Prev: inf  Min: 0.0  Max: inf  Default: inf\n",
      "Changed value of parameter TimeLimit to 500.0\n",
      "   Prev: inf  Min: 0.0  Max: inf  Default: inf\n",
      "Changed value of parameter TimeLimit to 500.0\n",
      "   Prev: inf  Min: 0.0  Max: inf  Default: inf\n",
      "Changed value of parameter TimeLimit to 500.0\n",
      "   Prev: inf  Min: 0.0  Max: inf  Default: inf\n",
      "Changed value of parameter TimeLimit to 500.0\n",
      "   Prev: inf  Min: 0.0  Max: inf  Default: inf\n",
      "Changed value of parameter TimeLimit to 500.0\n",
      "   Prev: inf  Min: 0.0  Max: inf  Default: inf\n",
      "Changed value of parameter TimeLimit to 500.0\n",
      "   Prev: inf  Min: 0.0  Max: inf  Default: inf\n",
      "Changed value of parameter TimeLimit to 500.0\n",
      "   Prev: inf  Min: 0.0  Max: inf  Default: inf\n",
      "Changed value of parameter TimeLimit to 500.0\n",
      "   Prev: inf  Min: 0.0  Max: inf  Default: inf\n",
      "Changed value of parameter TimeLimit to 500.0\n",
      "   Prev: inf  Min: 0.0  Max: inf  Default: inf\n",
      "Changed value of parameter TimeLimit to 500.0\n",
      "   Prev: inf  Min: 0.0  Max: inf  Default: inf\n",
      "Changed value of parameter TimeLimit to 500.0\n",
      "   Prev: inf  Min: 0.0  Max: inf  Default: inf\n",
      "Changed value of parameter TimeLimit to 500.0\n",
      "   Prev: inf  Min: 0.0  Max: inf  Default: inf\n",
      "Changed value of parameter TimeLimit to 500.0\n",
      "   Prev: inf  Min: 0.0  Max: inf  Default: inf\n",
      "Changed value of parameter TimeLimit to 500.0\n",
      "   Prev: inf  Min: 0.0  Max: inf  Default: inf\n",
      "Changed value of parameter TimeLimit to 500.0\n",
      "   Prev: inf  Min: 0.0  Max: inf  Default: inf\n",
      "Changed value of parameter TimeLimit to 500.0\n",
      "   Prev: inf  Min: 0.0  Max: inf  Default: inf\n",
      "Changed value of parameter TimeLimit to 500.0\n",
      "   Prev: inf  Min: 0.0  Max: inf  Default: inf\n",
      "Changed value of parameter TimeLimit to 500.0\n",
      "   Prev: inf  Min: 0.0  Max: inf  Default: inf\n",
      "Changed value of parameter TimeLimit to 500.0\n",
      "   Prev: inf  Min: 0.0  Max: inf  Default: inf\n",
      "Changed value of parameter TimeLimit to 500.0\n",
      "   Prev: inf  Min: 0.0  Max: inf  Default: inf\n",
      "Changed value of parameter TimeLimit to 500.0\n",
      "   Prev: inf  Min: 0.0  Max: inf  Default: inf\n",
      "Changed value of parameter TimeLimit to 500.0\n",
      "   Prev: inf  Min: 0.0  Max: inf  Default: inf\n",
      "Changed value of parameter TimeLimit to 500.0\n",
      "   Prev: inf  Min: 0.0  Max: inf  Default: inf\n",
      "Changed value of parameter TimeLimit to 500.0\n",
      "   Prev: inf  Min: 0.0  Max: inf  Default: inf\n",
      "Changed value of parameter TimeLimit to 500.0\n",
      "   Prev: inf  Min: 0.0  Max: inf  Default: inf\n",
      "Changed value of parameter TimeLimit to 500.0\n",
      "   Prev: inf  Min: 0.0  Max: inf  Default: inf\n",
      "Changed value of parameter TimeLimit to 500.0\n",
      "   Prev: inf  Min: 0.0  Max: inf  Default: inf\n",
      "Changed value of parameter TimeLimit to 500.0\n",
      "   Prev: inf  Min: 0.0  Max: inf  Default: inf\n",
      "Changed value of parameter TimeLimit to 500.0\n",
      "   Prev: inf  Min: 0.0  Max: inf  Default: inf\n",
      "Changed value of parameter TimeLimit to 500.0\n",
      "   Prev: inf  Min: 0.0  Max: inf  Default: inf\n",
      "Changed value of parameter TimeLimit to 500.0\n",
      "   Prev: inf  Min: 0.0  Max: inf  Default: inf\n",
      "Changed value of parameter TimeLimit to 500.0\n",
      "   Prev: inf  Min: 0.0  Max: inf  Default: inf\n",
      "Changed value of parameter TimeLimit to 500.0\n",
      "   Prev: inf  Min: 0.0  Max: inf  Default: inf\n",
      "Changed value of parameter TimeLimit to 500.0\n",
      "   Prev: inf  Min: 0.0  Max: inf  Default: inf\n",
      "Changed value of parameter TimeLimit to 500.0\n",
      "   Prev: inf  Min: 0.0  Max: inf  Default: inf\n",
      "Changed value of parameter TimeLimit to 500.0\n",
      "   Prev: inf  Min: 0.0  Max: inf  Default: inf\n",
      "Changed value of parameter TimeLimit to 500.0\n",
      "   Prev: inf  Min: 0.0  Max: inf  Default: inf\n",
      "Changed value of parameter TimeLimit to 500.0\n",
      "   Prev: inf  Min: 0.0  Max: inf  Default: inf\n",
      "Changed value of parameter TimeLimit to 500.0\n",
      "   Prev: inf  Min: 0.0  Max: inf  Default: inf\n",
      "Changed value of parameter TimeLimit to 500.0\n",
      "   Prev: inf  Min: 0.0  Max: inf  Default: inf\n",
      "Changed value of parameter TimeLimit to 500.0\n",
      "   Prev: inf  Min: 0.0  Max: inf  Default: inf\n",
      "Changed value of parameter TimeLimit to 500.0\n",
      "   Prev: inf  Min: 0.0  Max: inf  Default: inf\n",
      "Changed value of parameter TimeLimit to 500.0\n",
      "   Prev: inf  Min: 0.0  Max: inf  Default: inf\n",
      "Changed value of parameter TimeLimit to 500.0\n",
      "   Prev: inf  Min: 0.0  Max: inf  Default: inf\n",
      "Changed value of parameter TimeLimit to 500.0\n",
      "   Prev: inf  Min: 0.0  Max: inf  Default: inf\n",
      "Changed value of parameter TimeLimit to 500.0\n",
      "   Prev: inf  Min: 0.0  Max: inf  Default: inf\n",
      "Changed value of parameter TimeLimit to 500.0\n",
      "   Prev: inf  Min: 0.0  Max: inf  Default: inf\n",
      "Changed value of parameter TimeLimit to 500.0\n",
      "   Prev: inf  Min: 0.0  Max: inf  Default: inf\n",
      "Changed value of parameter TimeLimit to 500.0\n",
      "   Prev: inf  Min: 0.0  Max: inf  Default: inf\n",
      "Changed value of parameter TimeLimit to 500.0\n",
      "   Prev: inf  Min: 0.0  Max: inf  Default: inf\n",
      "Changed value of parameter TimeLimit to 500.0\n",
      "   Prev: inf  Min: 0.0  Max: inf  Default: inf\n",
      "Changed value of parameter TimeLimit to 500.0\n",
      "   Prev: inf  Min: 0.0  Max: inf  Default: inf\n",
      "Changed value of parameter TimeLimit to 500.0\n",
      "   Prev: inf  Min: 0.0  Max: inf  Default: inf\n",
      "Changed value of parameter TimeLimit to 500.0\n",
      "   Prev: inf  Min: 0.0  Max: inf  Default: inf\n",
      "Changed value of parameter TimeLimit to 500.0\n",
      "   Prev: inf  Min: 0.0  Max: inf  Default: inf\n",
      "Changed value of parameter TimeLimit to 500.0\n",
      "   Prev: inf  Min: 0.0  Max: inf  Default: inf\n",
      "Changed value of parameter TimeLimit to 500.0\n",
      "   Prev: inf  Min: 0.0  Max: inf  Default: inf\n",
      "Changed value of parameter TimeLimit to 500.0\n",
      "   Prev: inf  Min: 0.0  Max: inf  Default: inf\n",
      "Changed value of parameter TimeLimit to 500.0\n",
      "   Prev: inf  Min: 0.0  Max: inf  Default: inf\n",
      "Changed value of parameter TimeLimit to 500.0\n",
      "   Prev: inf  Min: 0.0  Max: inf  Default: inf\n",
      "Changed value of parameter TimeLimit to 500.0\n",
      "   Prev: inf  Min: 0.0  Max: inf  Default: inf\n",
      "Changed value of parameter TimeLimit to 500.0\n",
      "   Prev: inf  Min: 0.0  Max: inf  Default: inf\n",
      "Changed value of parameter TimeLimit to 500.0\n",
      "   Prev: inf  Min: 0.0  Max: inf  Default: inf\n",
      "Changed value of parameter TimeLimit to 500.0\n",
      "   Prev: inf  Min: 0.0  Max: inf  Default: inf\n",
      "Changed value of parameter TimeLimit to 500.0\n",
      "   Prev: inf  Min: 0.0  Max: inf  Default: inf\n",
      "Changed value of parameter TimeLimit to 500.0\n",
      "   Prev: inf  Min: 0.0  Max: inf  Default: inf\n",
      "Changed value of parameter TimeLimit to 500.0\n",
      "   Prev: inf  Min: 0.0  Max: inf  Default: inf\n",
      "Changed value of parameter TimeLimit to 500.0\n",
      "   Prev: inf  Min: 0.0  Max: inf  Default: inf\n",
      "Changed value of parameter TimeLimit to 500.0\n",
      "   Prev: inf  Min: 0.0  Max: inf  Default: inf\n",
      "Changed value of parameter TimeLimit to 500.0\n",
      "   Prev: inf  Min: 0.0  Max: inf  Default: inf\n",
      "Changed value of parameter TimeLimit to 500.0\n",
      "   Prev: inf  Min: 0.0  Max: inf  Default: inf\n",
      "Changed value of parameter TimeLimit to 500.0\n",
      "   Prev: inf  Min: 0.0  Max: inf  Default: inf\n",
      "Changed value of parameter TimeLimit to 500.0\n",
      "   Prev: inf  Min: 0.0  Max: inf  Default: inf\n",
      "Changed value of parameter TimeLimit to 500.0\n",
      "   Prev: inf  Min: 0.0  Max: inf  Default: inf\n",
      "Changed value of parameter TimeLimit to 500.0\n",
      "   Prev: inf  Min: 0.0  Max: inf  Default: inf\n",
      "Changed value of parameter TimeLimit to 500.0\n",
      "   Prev: inf  Min: 0.0  Max: inf  Default: inf\n",
      "Changed value of parameter TimeLimit to 500.0\n",
      "   Prev: inf  Min: 0.0  Max: inf  Default: inf\n",
      "Changed value of parameter TimeLimit to 500.0\n",
      "   Prev: inf  Min: 0.0  Max: inf  Default: inf\n",
      "Changed value of parameter TimeLimit to 500.0\n",
      "   Prev: inf  Min: 0.0  Max: inf  Default: inf\n",
      "Changed value of parameter TimeLimit to 500.0\n",
      "   Prev: inf  Min: 0.0  Max: inf  Default: inf\n",
      "Changed value of parameter TimeLimit to 500.0\n",
      "   Prev: inf  Min: 0.0  Max: inf  Default: inf\n",
      "Changed value of parameter TimeLimit to 500.0\n",
      "   Prev: inf  Min: 0.0  Max: inf  Default: inf\n",
      "Changed value of parameter TimeLimit to 500.0\n",
      "   Prev: inf  Min: 0.0  Max: inf  Default: inf\n",
      "Changed value of parameter TimeLimit to 500.0\n",
      "   Prev: inf  Min: 0.0  Max: inf  Default: inf\n"
     ]
    }
   ],
   "source": [
    "sses = []\n",
    "for k in ks:\n",
    "    sse = 0\n",
    "    for i in range(10):\n",
    "        \n",
    "        Q = np.zeros((2*m+1,2*m+1))\n",
    "        Q[:m+1,:m+1] = X[training['cv']!=i].transpose() @ X[training['cv']!=i]\n",
    "        c = np.zeros(2*m+1)\n",
    "        c[:m+1] = -2*(y[training['cv']!=i].transpose() @ X[training['cv']!=i])\n",
    "\n",
    "        A = np.zeros((2*m+1,2*m+1))\n",
    "        b = np.zeros(2*m+1)\n",
    "\n",
    "        for idx in range(m):\n",
    "            A[idx, idx+1] = 1\n",
    "            A[idx, idx+1+m] = M\n",
    "            A[idx+m,idx+1] = 1\n",
    "            A[idx+m,idx+1+m] = -M\n",
    "\n",
    "        A[2*m,m+1:] = 1\n",
    "        b[2*m] = k\n",
    "\n",
    "        sense = ['>']*m+['<']*m+['<']\n",
    "        lassoMod = gp.Model()\n",
    "        lassoMod.setParam('TimeLimit', 500)\n",
    "        lassoMod_x = lassoMod.addMVar(2*m+1,vtype=['C']*(m+1)+['B']*m,lb=[-M]*(m+1)+[0]*m)\n",
    "        lassoMod_con = lassoMod.addMConstrs(A, lassoMod_x, sense, b)\n",
    "        lassoMod.setMObjective(Q,c,0,sense=gp.GRB.MINIMIZE)\n",
    "\n",
    "        lassoMod.Params.OutputFlag = 0 \n",
    "\n",
    "        lassoMod.optimize()\n",
    "        \n",
    "        sse += sum((y[training['cv']==i] - X[training['cv']==i] @ lassoMod.x[:m+1])**2)\n",
    "        results.loc[len(results)] = [k, i, json.dumps(lassoMod.x[:m+1]), sum((y[training['cv']==i] - X[training['cv']==i] @ lassoMod.x[:m+1])**2)]\n",
    "        results.to_csv('results.csv')\n",
    "        \n",
    "    sses.append(sse)"
   ]
  },
  {
   "cell_type": "code",
   "execution_count": 9,
   "id": "359689fd-18d1-4393-aeae-99b2e96caf7b",
   "metadata": {},
   "outputs": [
    {
     "data": {
      "text/plain": [
       "[907.4638468880851,\n",
       " 724.8834938263229,\n",
       " 774.0271682963153,\n",
       " 795.0179291218362,\n",
       " 788.3388921362716,\n",
       " 805.995679625909,\n",
       " 813.8431361988557,\n",
       " 808.7878289652613,\n",
       " 817.0314525699657,\n",
       " 817.086060050166]"
      ]
     },
     "execution_count": 9,
     "metadata": {},
     "output_type": "execute_result"
    }
   ],
   "source": [
    "sses"
   ]
  },
  {
   "cell_type": "code",
   "execution_count": 7,
   "id": "d235b1a4-46ad-4614-8c5a-3eb9f6f9599e",
   "metadata": {},
   "outputs": [
    {
     "name": "stdout",
     "output_type": "stream",
     "text": [
      "Academic license - for non-commercial use only - expires 2022-08-24\n",
      "Using license file /Users/agnes/gurobi.lic\n",
      "Changed value of parameter TimeLimit to 500.0\n",
      "   Prev: inf  Min: 0.0  Max: inf  Default: inf\n"
     ]
    }
   ],
   "source": [
    "Q = np.zeros((2*m+1,2*m+1))\n",
    "Q[:m+1,:m+1] = X.transpose() @ X\n",
    "c = np.zeros(2*m+1)\n",
    "c[:m+1] = -2*(y.transpose() @ X)\n",
    "\n",
    "A = np.zeros((2*m+1,2*m+1))\n",
    "b = np.zeros(2*m+1)\n",
    "\n",
    "for idx in range(m):\n",
    "    A[idx, idx+1] = 1\n",
    "    A[idx, idx+1+m] = M\n",
    "    A[idx+m,idx+1] = 1\n",
    "    A[idx+m,idx+1+m] = -M\n",
    "\n",
    "A[2*m,m+1:] = 1\n",
    "b[2*m] = 10\n",
    "\n",
    "sense = ['>']*m+['<']*m+['<']\n",
    "lassoMod = gp.Model()\n",
    "lassoMod.setParam('TimeLimit', 500)\n",
    "lassoMod_x = lassoMod.addMVar(2*m+1,vtype=['C']*(m+1)+['B']*m,lb=[-M]*(m+1)+[0]*m)\n",
    "lassoMod_con = lassoMod.addMConstrs(A, lassoMod_x, sense, b)\n",
    "lassoMod.setMObjective(Q,c,0,sense=gp.GRB.MINIMIZE)\n",
    "\n",
    "lassoMod.Params.OutputFlag = 0 \n",
    "\n",
    "lassoMod.optimize()"
   ]
  },
  {
   "cell_type": "code",
   "execution_count": 8,
   "id": "026ec8a9-6127-44f5-b169-7f9a4c543277",
   "metadata": {
    "tags": []
   },
   "outputs": [],
   "source": [
    "X_test = np.ones((50,m+1))\n",
    "X_test[:,1:] = testing.iloc[:,1:].values\n",
    "testing['predicted'] = X_test @ lassoMod.x[:m+1]"
   ]
  },
  {
   "cell_type": "code",
   "execution_count": 9,
   "id": "80531faf",
   "metadata": {},
   "outputs": [
    {
     "data": {
      "text/plain": [
       "116.82719822762624"
      ]
     },
     "execution_count": 9,
     "metadata": {},
     "output_type": "execute_result"
    }
   ],
   "source": [
    "sum((testing['predicted'] - testing['y'])**2)"
   ]
  },
  {
   "cell_type": "code",
   "execution_count": 30,
   "id": "aaaad2ab-0b93-47d6-877e-3838da0cd3d8",
   "metadata": {},
   "outputs": [],
   "source": [
    "lasso = GridSearchCV(Lasso(),{'alpha':list(np.linspace(0,1,100))}, cv=10).fit(X,y)"
   ]
  },
  {
   "cell_type": "code",
   "execution_count": 31,
   "id": "551ab2ce-94a1-4174-86b1-2266a310a4fa",
   "metadata": {},
   "outputs": [
    {
     "data": {
      "text/plain": [
       "{'alpha': 0.07564633275546291}"
      ]
     },
     "execution_count": 31,
     "metadata": {},
     "output_type": "execute_result"
    }
   ],
   "source": [
    "lasso.best_params_"
   ]
  },
  {
   "cell_type": "code",
   "execution_count": 32,
   "id": "9891661b-36f5-4fcd-b953-2ae7fa6baf97",
   "metadata": {},
   "outputs": [
    {
     "data": {
      "text/plain": [
       "array([0.        , 0.01010101, 0.02020202, 0.03030303, 0.04040404,\n",
       "       0.05050505, 0.06060606, 0.07070707, 0.08080808, 0.09090909,\n",
       "       0.1010101 , 0.11111111, 0.12121212, 0.13131313, 0.14141414,\n",
       "       0.15151515, 0.16161616, 0.17171717, 0.18181818, 0.19191919,\n",
       "       0.2020202 , 0.21212121, 0.22222222, 0.23232323, 0.24242424,\n",
       "       0.25252525, 0.26262626, 0.27272727, 0.28282828, 0.29292929,\n",
       "       0.3030303 , 0.31313131, 0.32323232, 0.33333333, 0.34343434,\n",
       "       0.35353535, 0.36363636, 0.37373737, 0.38383838, 0.39393939,\n",
       "       0.4040404 , 0.41414141, 0.42424242, 0.43434343, 0.44444444,\n",
       "       0.45454545, 0.46464646, 0.47474747, 0.48484848, 0.49494949,\n",
       "       0.50505051, 0.51515152, 0.52525253, 0.53535354, 0.54545455,\n",
       "       0.55555556, 0.56565657, 0.57575758, 0.58585859, 0.5959596 ,\n",
       "       0.60606061, 0.61616162, 0.62626263, 0.63636364, 0.64646465,\n",
       "       0.65656566, 0.66666667, 0.67676768, 0.68686869, 0.6969697 ,\n",
       "       0.70707071, 0.71717172, 0.72727273, 0.73737374, 0.74747475,\n",
       "       0.75757576, 0.76767677, 0.77777778, 0.78787879, 0.7979798 ,\n",
       "       0.80808081, 0.81818182, 0.82828283, 0.83838384, 0.84848485,\n",
       "       0.85858586, 0.86868687, 0.87878788, 0.88888889, 0.8989899 ,\n",
       "       0.90909091, 0.91919192, 0.92929293, 0.93939394, 0.94949495,\n",
       "       0.95959596, 0.96969697, 0.97979798, 0.98989899, 1.        ])"
      ]
     },
     "execution_count": 32,
     "metadata": {},
     "output_type": "execute_result"
    }
   ],
   "source": [
    "np.linspace(0,1,100)"
   ]
  },
  {
   "cell_type": "code",
   "execution_count": 33,
   "id": "34bd570a-7fa2-495c-aed9-984a38459a66",
   "metadata": {},
   "outputs": [
    {
     "data": {
      "text/plain": [
       "array([1.00000000e-03, 1.14975700e-03, 1.32194115e-03, 1.51991108e-03,\n",
       "       1.74752840e-03, 2.00923300e-03, 2.31012970e-03, 2.65608778e-03,\n",
       "       3.05385551e-03, 3.51119173e-03, 4.03701726e-03, 4.64158883e-03,\n",
       "       5.33669923e-03, 6.13590727e-03, 7.05480231e-03, 8.11130831e-03,\n",
       "       9.32603347e-03, 1.07226722e-02, 1.23284674e-02, 1.41747416e-02,\n",
       "       1.62975083e-02, 1.87381742e-02, 2.15443469e-02, 2.47707636e-02,\n",
       "       2.84803587e-02, 3.27454916e-02, 3.76493581e-02, 4.32876128e-02,\n",
       "       4.97702356e-02, 5.72236766e-02, 6.57933225e-02, 7.56463328e-02,\n",
       "       8.69749003e-02, 1.00000000e-01, 1.14975700e-01, 1.32194115e-01,\n",
       "       1.51991108e-01, 1.74752840e-01, 2.00923300e-01, 2.31012970e-01,\n",
       "       2.65608778e-01, 3.05385551e-01, 3.51119173e-01, 4.03701726e-01,\n",
       "       4.64158883e-01, 5.33669923e-01, 6.13590727e-01, 7.05480231e-01,\n",
       "       8.11130831e-01, 9.32603347e-01, 1.07226722e+00, 1.23284674e+00,\n",
       "       1.41747416e+00, 1.62975083e+00, 1.87381742e+00, 2.15443469e+00,\n",
       "       2.47707636e+00, 2.84803587e+00, 3.27454916e+00, 3.76493581e+00,\n",
       "       4.32876128e+00, 4.97702356e+00, 5.72236766e+00, 6.57933225e+00,\n",
       "       7.56463328e+00, 8.69749003e+00, 1.00000000e+01, 1.14975700e+01,\n",
       "       1.32194115e+01, 1.51991108e+01, 1.74752840e+01, 2.00923300e+01,\n",
       "       2.31012970e+01, 2.65608778e+01, 3.05385551e+01, 3.51119173e+01,\n",
       "       4.03701726e+01, 4.64158883e+01, 5.33669923e+01, 6.13590727e+01,\n",
       "       7.05480231e+01, 8.11130831e+01, 9.32603347e+01, 1.07226722e+02,\n",
       "       1.23284674e+02, 1.41747416e+02, 1.62975083e+02, 1.87381742e+02,\n",
       "       2.15443469e+02, 2.47707636e+02, 2.84803587e+02, 3.27454916e+02,\n",
       "       3.76493581e+02, 4.32876128e+02, 4.97702356e+02, 5.72236766e+02,\n",
       "       6.57933225e+02, 7.56463328e+02, 8.69749003e+02, 1.00000000e+03])"
      ]
     },
     "execution_count": 33,
     "metadata": {},
     "output_type": "execute_result"
    }
   ],
   "source": [
    "10**np.linspace(-3,3,100)"
   ]
  },
  {
   "cell_type": "code",
   "execution_count": null,
   "id": "6310c9d4-74ac-4560-a709-aeac9be47090",
   "metadata": {},
   "outputs": [],
   "source": []
  }
 ],
 "metadata": {
  "kernelspec": {
   "display_name": "Python 3 (ipykernel)",
   "language": "python",
   "name": "python3"
  },
  "language_info": {
   "codemirror_mode": {
    "name": "ipython",
    "version": 3
   },
   "file_extension": ".py",
   "mimetype": "text/x-python",
   "name": "python",
   "nbconvert_exporter": "python",
   "pygments_lexer": "ipython3",
   "version": "3.9.9"
  }
 },
 "nbformat": 4,
 "nbformat_minor": 5
}
